{
 "cells": [
  {
   "cell_type": "code",
   "execution_count": 11,
   "source": [
    "import pandas as pd\r\n",
    "import numpy as np\r\n",
    "import plotly.express as px\r\n",
    "import matplotlib.pyplot as plt"
   ],
   "outputs": [],
   "metadata": {}
  },
  {
   "cell_type": "code",
   "execution_count": 12,
   "source": [
    "import plotly\r\n",
    "plotly.__version__"
   ],
   "outputs": [
    {
     "output_type": "execute_result",
     "data": {
      "text/plain": [
       "'5.2.2'"
      ]
     },
     "metadata": {},
     "execution_count": 12
    }
   ],
   "metadata": {}
  },
  {
   "cell_type": "code",
   "execution_count": 13,
   "source": [
    "vaccination_data = pd.read_csv('../data/vaccinations.csv')\r\n",
    "df = pd.DataFrame(vaccination_data)\r\n",
    "df.head()"
   ],
   "outputs": [
    {
     "output_type": "execute_result",
     "data": {
      "text/html": [
       "<div>\n",
       "<style scoped>\n",
       "    .dataframe tbody tr th:only-of-type {\n",
       "        vertical-align: middle;\n",
       "    }\n",
       "\n",
       "    .dataframe tbody tr th {\n",
       "        vertical-align: top;\n",
       "    }\n",
       "\n",
       "    .dataframe thead th {\n",
       "        text-align: right;\n",
       "    }\n",
       "</style>\n",
       "<table border=\"1\" class=\"dataframe\">\n",
       "  <thead>\n",
       "    <tr style=\"text-align: right;\">\n",
       "      <th></th>\n",
       "      <th>location</th>\n",
       "      <th>iso_code</th>\n",
       "      <th>date</th>\n",
       "      <th>total_vaccinations</th>\n",
       "      <th>people_vaccinated</th>\n",
       "      <th>people_fully_vaccinated</th>\n",
       "      <th>total_boosters</th>\n",
       "      <th>daily_vaccinations_raw</th>\n",
       "      <th>daily_vaccinations</th>\n",
       "      <th>total_vaccinations_per_hundred</th>\n",
       "      <th>people_vaccinated_per_hundred</th>\n",
       "      <th>people_fully_vaccinated_per_hundred</th>\n",
       "      <th>total_boosters_per_hundred</th>\n",
       "      <th>daily_vaccinations_per_million</th>\n",
       "    </tr>\n",
       "  </thead>\n",
       "  <tbody>\n",
       "    <tr>\n",
       "      <th>0</th>\n",
       "      <td>Afghanistan</td>\n",
       "      <td>AFG</td>\n",
       "      <td>2021-02-22</td>\n",
       "      <td>0.0</td>\n",
       "      <td>0.0</td>\n",
       "      <td>NaN</td>\n",
       "      <td>NaN</td>\n",
       "      <td>NaN</td>\n",
       "      <td>NaN</td>\n",
       "      <td>0.0</td>\n",
       "      <td>0.0</td>\n",
       "      <td>NaN</td>\n",
       "      <td>NaN</td>\n",
       "      <td>NaN</td>\n",
       "    </tr>\n",
       "    <tr>\n",
       "      <th>1</th>\n",
       "      <td>Afghanistan</td>\n",
       "      <td>AFG</td>\n",
       "      <td>2021-02-23</td>\n",
       "      <td>NaN</td>\n",
       "      <td>NaN</td>\n",
       "      <td>NaN</td>\n",
       "      <td>NaN</td>\n",
       "      <td>NaN</td>\n",
       "      <td>1367.0</td>\n",
       "      <td>NaN</td>\n",
       "      <td>NaN</td>\n",
       "      <td>NaN</td>\n",
       "      <td>NaN</td>\n",
       "      <td>35.0</td>\n",
       "    </tr>\n",
       "    <tr>\n",
       "      <th>2</th>\n",
       "      <td>Afghanistan</td>\n",
       "      <td>AFG</td>\n",
       "      <td>2021-02-24</td>\n",
       "      <td>NaN</td>\n",
       "      <td>NaN</td>\n",
       "      <td>NaN</td>\n",
       "      <td>NaN</td>\n",
       "      <td>NaN</td>\n",
       "      <td>1367.0</td>\n",
       "      <td>NaN</td>\n",
       "      <td>NaN</td>\n",
       "      <td>NaN</td>\n",
       "      <td>NaN</td>\n",
       "      <td>35.0</td>\n",
       "    </tr>\n",
       "    <tr>\n",
       "      <th>3</th>\n",
       "      <td>Afghanistan</td>\n",
       "      <td>AFG</td>\n",
       "      <td>2021-02-25</td>\n",
       "      <td>NaN</td>\n",
       "      <td>NaN</td>\n",
       "      <td>NaN</td>\n",
       "      <td>NaN</td>\n",
       "      <td>NaN</td>\n",
       "      <td>1367.0</td>\n",
       "      <td>NaN</td>\n",
       "      <td>NaN</td>\n",
       "      <td>NaN</td>\n",
       "      <td>NaN</td>\n",
       "      <td>35.0</td>\n",
       "    </tr>\n",
       "    <tr>\n",
       "      <th>4</th>\n",
       "      <td>Afghanistan</td>\n",
       "      <td>AFG</td>\n",
       "      <td>2021-02-26</td>\n",
       "      <td>NaN</td>\n",
       "      <td>NaN</td>\n",
       "      <td>NaN</td>\n",
       "      <td>NaN</td>\n",
       "      <td>NaN</td>\n",
       "      <td>1367.0</td>\n",
       "      <td>NaN</td>\n",
       "      <td>NaN</td>\n",
       "      <td>NaN</td>\n",
       "      <td>NaN</td>\n",
       "      <td>35.0</td>\n",
       "    </tr>\n",
       "  </tbody>\n",
       "</table>\n",
       "</div>"
      ],
      "text/plain": [
       "      location iso_code        date  total_vaccinations  people_vaccinated  \\\n",
       "0  Afghanistan      AFG  2021-02-22                 0.0                0.0   \n",
       "1  Afghanistan      AFG  2021-02-23                 NaN                NaN   \n",
       "2  Afghanistan      AFG  2021-02-24                 NaN                NaN   \n",
       "3  Afghanistan      AFG  2021-02-25                 NaN                NaN   \n",
       "4  Afghanistan      AFG  2021-02-26                 NaN                NaN   \n",
       "\n",
       "   people_fully_vaccinated  total_boosters  daily_vaccinations_raw  \\\n",
       "0                      NaN             NaN                     NaN   \n",
       "1                      NaN             NaN                     NaN   \n",
       "2                      NaN             NaN                     NaN   \n",
       "3                      NaN             NaN                     NaN   \n",
       "4                      NaN             NaN                     NaN   \n",
       "\n",
       "   daily_vaccinations  total_vaccinations_per_hundred  \\\n",
       "0                 NaN                             0.0   \n",
       "1              1367.0                             NaN   \n",
       "2              1367.0                             NaN   \n",
       "3              1367.0                             NaN   \n",
       "4              1367.0                             NaN   \n",
       "\n",
       "   people_vaccinated_per_hundred  people_fully_vaccinated_per_hundred  \\\n",
       "0                            0.0                                  NaN   \n",
       "1                            NaN                                  NaN   \n",
       "2                            NaN                                  NaN   \n",
       "3                            NaN                                  NaN   \n",
       "4                            NaN                                  NaN   \n",
       "\n",
       "   total_boosters_per_hundred  daily_vaccinations_per_million  \n",
       "0                         NaN                             NaN  \n",
       "1                         NaN                            35.0  \n",
       "2                         NaN                            35.0  \n",
       "3                         NaN                            35.0  \n",
       "4                         NaN                            35.0  "
      ]
     },
     "metadata": {},
     "execution_count": 13
    }
   ],
   "metadata": {}
  },
  {
   "cell_type": "code",
   "execution_count": 14,
   "source": [
    "def vaccination_lastest_date_by_country(df):\r\n",
    "  return df.groupby('location').last().reset_index()"
   ],
   "outputs": [],
   "metadata": {}
  },
  {
   "cell_type": "code",
   "execution_count": 15,
   "source": [
    "df_vaccination_by_country = df.groupby('location').last().reset_index()\r\n",
    "df_vaccination_by_country.head()\r\n"
   ],
   "outputs": [
    {
     "output_type": "execute_result",
     "data": {
      "text/html": [
       "<div>\n",
       "<style scoped>\n",
       "    .dataframe tbody tr th:only-of-type {\n",
       "        vertical-align: middle;\n",
       "    }\n",
       "\n",
       "    .dataframe tbody tr th {\n",
       "        vertical-align: top;\n",
       "    }\n",
       "\n",
       "    .dataframe thead th {\n",
       "        text-align: right;\n",
       "    }\n",
       "</style>\n",
       "<table border=\"1\" class=\"dataframe\">\n",
       "  <thead>\n",
       "    <tr style=\"text-align: right;\">\n",
       "      <th></th>\n",
       "      <th>location</th>\n",
       "      <th>iso_code</th>\n",
       "      <th>date</th>\n",
       "      <th>total_vaccinations</th>\n",
       "      <th>people_vaccinated</th>\n",
       "      <th>people_fully_vaccinated</th>\n",
       "      <th>total_boosters</th>\n",
       "      <th>daily_vaccinations_raw</th>\n",
       "      <th>daily_vaccinations</th>\n",
       "      <th>total_vaccinations_per_hundred</th>\n",
       "      <th>people_vaccinated_per_hundred</th>\n",
       "      <th>people_fully_vaccinated_per_hundred</th>\n",
       "      <th>total_boosters_per_hundred</th>\n",
       "      <th>daily_vaccinations_per_million</th>\n",
       "    </tr>\n",
       "  </thead>\n",
       "  <tbody>\n",
       "    <tr>\n",
       "      <th>0</th>\n",
       "      <td>Afghanistan</td>\n",
       "      <td>AFG</td>\n",
       "      <td>2021-08-11</td>\n",
       "      <td>1809517.0</td>\n",
       "      <td>770302.0</td>\n",
       "      <td>219159.0</td>\n",
       "      <td>NaN</td>\n",
       "      <td>4015.0</td>\n",
       "      <td>35057.0</td>\n",
       "      <td>4.65</td>\n",
       "      <td>1.98</td>\n",
       "      <td>0.56</td>\n",
       "      <td>NaN</td>\n",
       "      <td>901.0</td>\n",
       "    </tr>\n",
       "    <tr>\n",
       "      <th>1</th>\n",
       "      <td>Africa</td>\n",
       "      <td>OWID_AFR</td>\n",
       "      <td>2021-08-23</td>\n",
       "      <td>91915588.0</td>\n",
       "      <td>61626192.0</td>\n",
       "      <td>33283254.0</td>\n",
       "      <td>NaN</td>\n",
       "      <td>891079.0</td>\n",
       "      <td>1544920.0</td>\n",
       "      <td>6.86</td>\n",
       "      <td>4.60</td>\n",
       "      <td>2.48</td>\n",
       "      <td>NaN</td>\n",
       "      <td>1152.0</td>\n",
       "    </tr>\n",
       "    <tr>\n",
       "      <th>2</th>\n",
       "      <td>Albania</td>\n",
       "      <td>ALB</td>\n",
       "      <td>2021-08-17</td>\n",
       "      <td>1340339.0</td>\n",
       "      <td>764997.0</td>\n",
       "      <td>575342.0</td>\n",
       "      <td>NaN</td>\n",
       "      <td>9585.0</td>\n",
       "      <td>8586.0</td>\n",
       "      <td>46.58</td>\n",
       "      <td>26.58</td>\n",
       "      <td>19.99</td>\n",
       "      <td>NaN</td>\n",
       "      <td>2984.0</td>\n",
       "    </tr>\n",
       "    <tr>\n",
       "      <th>3</th>\n",
       "      <td>Algeria</td>\n",
       "      <td>DZA</td>\n",
       "      <td>2021-08-20</td>\n",
       "      <td>4146091.0</td>\n",
       "      <td>3421279.0</td>\n",
       "      <td>724812.0</td>\n",
       "      <td>NaN</td>\n",
       "      <td>30.0</td>\n",
       "      <td>22369.0</td>\n",
       "      <td>9.45</td>\n",
       "      <td>7.80</td>\n",
       "      <td>1.65</td>\n",
       "      <td>NaN</td>\n",
       "      <td>510.0</td>\n",
       "    </tr>\n",
       "    <tr>\n",
       "      <th>4</th>\n",
       "      <td>Andorra</td>\n",
       "      <td>AND</td>\n",
       "      <td>2021-08-15</td>\n",
       "      <td>91660.0</td>\n",
       "      <td>51044.0</td>\n",
       "      <td>40616.0</td>\n",
       "      <td>NaN</td>\n",
       "      <td>1973.0</td>\n",
       "      <td>381.0</td>\n",
       "      <td>118.63</td>\n",
       "      <td>66.06</td>\n",
       "      <td>52.57</td>\n",
       "      <td>NaN</td>\n",
       "      <td>4931.0</td>\n",
       "    </tr>\n",
       "  </tbody>\n",
       "</table>\n",
       "</div>"
      ],
      "text/plain": [
       "      location  iso_code        date  total_vaccinations  people_vaccinated  \\\n",
       "0  Afghanistan       AFG  2021-08-11           1809517.0           770302.0   \n",
       "1       Africa  OWID_AFR  2021-08-23          91915588.0         61626192.0   \n",
       "2      Albania       ALB  2021-08-17           1340339.0           764997.0   \n",
       "3      Algeria       DZA  2021-08-20           4146091.0          3421279.0   \n",
       "4      Andorra       AND  2021-08-15             91660.0            51044.0   \n",
       "\n",
       "   people_fully_vaccinated  total_boosters  daily_vaccinations_raw  \\\n",
       "0                 219159.0             NaN                  4015.0   \n",
       "1               33283254.0             NaN                891079.0   \n",
       "2                 575342.0             NaN                  9585.0   \n",
       "3                 724812.0             NaN                    30.0   \n",
       "4                  40616.0             NaN                  1973.0   \n",
       "\n",
       "   daily_vaccinations  total_vaccinations_per_hundred  \\\n",
       "0             35057.0                            4.65   \n",
       "1           1544920.0                            6.86   \n",
       "2              8586.0                           46.58   \n",
       "3             22369.0                            9.45   \n",
       "4               381.0                          118.63   \n",
       "\n",
       "   people_vaccinated_per_hundred  people_fully_vaccinated_per_hundred  \\\n",
       "0                           1.98                                 0.56   \n",
       "1                           4.60                                 2.48   \n",
       "2                          26.58                                19.99   \n",
       "3                           7.80                                 1.65   \n",
       "4                          66.06                                52.57   \n",
       "\n",
       "   total_boosters_per_hundred  daily_vaccinations_per_million  \n",
       "0                         NaN                           901.0  \n",
       "1                         NaN                          1152.0  \n",
       "2                         NaN                          2984.0  \n",
       "3                         NaN                           510.0  \n",
       "4                         NaN                          4931.0  "
      ]
     },
     "metadata": {},
     "execution_count": 15
    }
   ],
   "metadata": {}
  },
  {
   "cell_type": "code",
   "execution_count": 16,
   "source": [
    "df_vaccination_by_country[df_vaccination_by_country['location']=='Taiwan']['total_vaccinations_per_hundred'].values[0]"
   ],
   "outputs": [
    {
     "output_type": "execute_result",
     "data": {
      "text/plain": [
       "43.02"
      ]
     },
     "metadata": {},
     "execution_count": 16
    }
   ],
   "metadata": {}
  },
  {
   "cell_type": "code",
   "execution_count": 17,
   "source": [
    "# correct idea of plotting, but how to render just part of it by country, with scrollable view?\r\n",
    "df_vaccination_by_country = df_vaccination_by_country.sort_values(by='total_vaccinations_per_hundred', ascending=True)\r\n",
    "fig = px.bar(df_vaccination_by_country, x='total_vaccinations_per_hundred', y='location', text='total_vaccinations_per_hundred', height=4000)\r\n",
    "\r\n",
    "# bring the label text outside of the bar, and make the text bigger\r\n",
    "# reference: https://plotly.com/python/bar-charts/#bar-chart-with-direct-labels\r\n",
    "fig.update_traces(texttemplate='%{text:.4s}', textposition='outside')\r\n",
    "fig.update_layout(uniformtext_minsize=8, uniformtext_mode='hide')\r\n",
    "\r\n",
    "# adjusting the axis labels and layout\r\n",
    "fig.update_layout(yaxis_title=None, xaxis={\"side\": \"top\"})\r\n",
    "fig"
   ],
   "outputs": [
    {
     "output_type": "display_data",
     "data": {
      "application/vnd.plotly.v1+json": {
       "config": {
        "plotlyServerURL": "https://plot.ly"
       },
       "data": [
        {
         "alignmentgroup": "True",
         "hovertemplate": "total_vaccinations_per_hundred=%{text}<br>location=%{y}<extra></extra>",
         "legendgroup": "",
         "marker": {
          "color": "#636efa",
          "pattern": {
           "shape": ""
          }
         },
         "name": "",
         "offsetgroup": "",
         "orientation": "h",
         "showlegend": false,
         "text": [
          0.1,
          0.23,
          0.28,
          0.34,
          0.37,
          0.51,
          0.7,
          0.71,
          0.8,
          1.04,
          1.26,
          1.28,
          1.58,
          1.58,
          1.78,
          1.89,
          1.92,
          1.92,
          1.98,
          2.03,
          2.04,
          2.22,
          2.25,
          2.54,
          2.83,
          3,
          3.41,
          4.09,
          4.33,
          4.46,
          4.65,
          4.83,
          4.96,
          5.23,
          5.34,
          5.47,
          5.49,
          5.74,
          5.96,
          6.33,
          6.47,
          6.86,
          7.89,
          8.08,
          9.22,
          9.25,
          9.45,
          10.09,
          10.11,
          10.78,
          11.38,
          11.49,
          11.7,
          12.95,
          13.3,
          14.13,
          14.2,
          15.67,
          16.45,
          17.35,
          17.84,
          18.19,
          18.28,
          18.93,
          20.07,
          20.63,
          21.03,
          21.14,
          21.35,
          23.47,
          23.69,
          24.06,
          24.56,
          25.76,
          27.5,
          28.01,
          28.19,
          28.19,
          28.29,
          28.41,
          30.21,
          30.46,
          31.13,
          31.4,
          32.08,
          32.81,
          32.84,
          33.25,
          33.69,
          33.98,
          35.62,
          36.16,
          36.99,
          37.28,
          40.47,
          42.11,
          42.19,
          43.02,
          45.75,
          46.58,
          47.15,
          50.02,
          50.26,
          50.78,
          51.68,
          52.28,
          52.58,
          52.73,
          53.06,
          53.57,
          54.12,
          54.67,
          55.62,
          56.39,
          56.57,
          57.56,
          57.87,
          59.79,
          60.14,
          60.62,
          60.86,
          61.15,
          62.74,
          62.98,
          64.13,
          65.36,
          66.19,
          67.26,
          67.47,
          70.82,
          71.7,
          73.05,
          73.11,
          74.54,
          75.54,
          77.28,
          77.69,
          78.26,
          79.23,
          81.61,
          82.95,
          83.12,
          83.83,
          84,
          84.13,
          86.04,
          86.59,
          86.81,
          87.89,
          89.23,
          89.72,
          91.91,
          93.15,
          93.37,
          93.54,
          94.66,
          94.89,
          95.42,
          96.53,
          97.33,
          98.23,
          99.01,
          99.99,
          100.49,
          103.56,
          105.16,
          106.3,
          106.37,
          107.32,
          108.61,
          108.62,
          109.26,
          110.08,
          110.42,
          110.51,
          111.09,
          112.16,
          112.27,
          112.53,
          114.66,
          116.19,
          116.77,
          117.55,
          117.85,
          118.07,
          118.63,
          118.91,
          120.4,
          120.44,
          123.04,
          123.44,
          124.21,
          124.24,
          125.08,
          126.53,
          126.83,
          126.83,
          127.33,
          130,
          130.91,
          131.84,
          132.51,
          133.95,
          134.2,
          134.93,
          135.76,
          136.01,
          136.31,
          136.46,
          136.92,
          136.99,
          139.12,
          139.24,
          139.84,
          140.04,
          141.98,
          143.15,
          144.3,
          144.39,
          145.3,
          145.91,
          146.27,
          146.65,
          148.15,
          148.18,
          148.7,
          148.82,
          149.52,
          151.84,
          153.73,
          153.78,
          176.6,
          179.09,
          233.56
         ],
         "textposition": "outside",
         "texttemplate": "%{text:.4s}",
         "type": "bar",
         "x": [
          0.1,
          0.23,
          0.28,
          0.34,
          0.37,
          0.51,
          0.7,
          0.71,
          0.8,
          1.04,
          1.26,
          1.28,
          1.58,
          1.58,
          1.78,
          1.89,
          1.92,
          1.92,
          1.98,
          2.03,
          2.04,
          2.22,
          2.25,
          2.54,
          2.83,
          3,
          3.41,
          4.09,
          4.33,
          4.46,
          4.65,
          4.83,
          4.96,
          5.23,
          5.34,
          5.47,
          5.49,
          5.74,
          5.96,
          6.33,
          6.47,
          6.86,
          7.89,
          8.08,
          9.22,
          9.25,
          9.45,
          10.09,
          10.11,
          10.78,
          11.38,
          11.49,
          11.7,
          12.95,
          13.3,
          14.13,
          14.2,
          15.67,
          16.45,
          17.35,
          17.84,
          18.19,
          18.28,
          18.93,
          20.07,
          20.63,
          21.03,
          21.14,
          21.35,
          23.47,
          23.69,
          24.06,
          24.56,
          25.76,
          27.5,
          28.01,
          28.19,
          28.19,
          28.29,
          28.41,
          30.21,
          30.46,
          31.13,
          31.4,
          32.08,
          32.81,
          32.84,
          33.25,
          33.69,
          33.98,
          35.62,
          36.16,
          36.99,
          37.28,
          40.47,
          42.11,
          42.19,
          43.02,
          45.75,
          46.58,
          47.15,
          50.02,
          50.26,
          50.78,
          51.68,
          52.28,
          52.58,
          52.73,
          53.06,
          53.57,
          54.12,
          54.67,
          55.62,
          56.39,
          56.57,
          57.56,
          57.87,
          59.79,
          60.14,
          60.62,
          60.86,
          61.15,
          62.74,
          62.98,
          64.13,
          65.36,
          66.19,
          67.26,
          67.47,
          70.82,
          71.7,
          73.05,
          73.11,
          74.54,
          75.54,
          77.28,
          77.69,
          78.26,
          79.23,
          81.61,
          82.95,
          83.12,
          83.83,
          84,
          84.13,
          86.04,
          86.59,
          86.81,
          87.89,
          89.23,
          89.72,
          91.91,
          93.15,
          93.37,
          93.54,
          94.66,
          94.89,
          95.42,
          96.53,
          97.33,
          98.23,
          99.01,
          99.99,
          100.49,
          103.56,
          105.16,
          106.3,
          106.37,
          107.32,
          108.61,
          108.62,
          109.26,
          110.08,
          110.42,
          110.51,
          111.09,
          112.16,
          112.27,
          112.53,
          114.66,
          116.19,
          116.77,
          117.55,
          117.85,
          118.07,
          118.63,
          118.91,
          120.4,
          120.44,
          123.04,
          123.44,
          124.21,
          124.24,
          125.08,
          126.53,
          126.83,
          126.83,
          127.33,
          130,
          130.91,
          131.84,
          132.51,
          133.95,
          134.2,
          134.93,
          135.76,
          136.01,
          136.31,
          136.46,
          136.92,
          136.99,
          139.12,
          139.24,
          139.84,
          140.04,
          141.98,
          143.15,
          144.3,
          144.39,
          145.3,
          145.91,
          146.27,
          146.65,
          148.15,
          148.18,
          148.7,
          148.82,
          149.52,
          151.84,
          153.73,
          153.78,
          176.6,
          179.09,
          233.56
         ],
         "xaxis": "x",
         "y": [
          "Democratic Republic of Congo",
          "Haiti",
          "Chad",
          "Burkina Faso",
          "Tanzania",
          "South Sudan",
          "Turkmenistan",
          "Madagascar",
          "Benin",
          "Yemen",
          "Papua New Guinea",
          "Mali",
          "Guinea-Bissau",
          "Cameroon",
          "Somalia",
          "Sudan",
          "Nigeria",
          "Low income",
          "Central African Republic",
          "Niger",
          "Ethiopia",
          "Syria",
          "Liberia",
          "Uganda",
          "Sierra Leone",
          "Zambia",
          "Lesotho",
          "Ghana",
          "Malawi",
          "Kenya",
          "Afghanistan",
          "Cote d'Ivoire",
          "Congo",
          "Iraq",
          "Angola",
          "Mauritania",
          "Djibouti",
          "Gabon",
          "Mozambique",
          "Egypt",
          "Togo",
          "Africa",
          "Guinea",
          "Armenia",
          "Solomon Islands",
          "Nicaragua",
          "Algeria",
          "Senegal",
          "Vanuatu",
          "Namibia",
          "Rwanda",
          "Myanmar",
          "Kiribati",
          "Libya",
          "Gambia",
          "Bangladesh",
          "Jamaica",
          "Kyrgyzstan",
          "Venezuela",
          "Botswana",
          "Vietnam",
          "South Africa",
          "Eswatini",
          "Ukraine",
          "Sao Tome and Principe",
          "Tajikistan",
          "Pakistan",
          "Palestine",
          "Guatemala",
          "Equatorial Guinea",
          "Iran",
          "Saint Vincent and the Grenadines",
          "Georgia",
          "Zimbabwe",
          "Comoros",
          "Philippines",
          "Bonaire Sint Eustatius and Saba",
          "Laos",
          "Bosnia and Herzegovina",
          "Belarus",
          "Nepal",
          "Moldova",
          "Kosovo",
          "Lower middle income",
          "Bulgaria",
          "Bahamas",
          "Indonesia",
          "Honduras",
          "Saint Lucia",
          "Lebanon",
          "Grenada",
          "Uzbekistan",
          "Thailand",
          "Timor",
          "Tuvalu",
          "Tunisia",
          "India",
          "Taiwan",
          "Bolivia",
          "Albania",
          "Cape Verde",
          "Oceania",
          "Romania",
          "New Caledonia",
          "Tonga",
          "Peru",
          "Suriname",
          "Russia",
          "Paraguay",
          "North Macedonia",
          "New Zealand",
          "Belize",
          "Kuwait",
          "Brunei",
          "Montserrat",
          "Dominica",
          "Guyana",
          "Montenegro",
          "Jordan",
          "Kazakhstan",
          "Azerbaijan",
          "Trinidad and Tobago",
          "Mexico",
          "Samoa",
          "World",
          "Colombia",
          "Oman",
          "Australia",
          "Barbados",
          "Asia",
          "Tokelau",
          "South Korea",
          "Antigua and Barbuda",
          "French Polynesia",
          "Costa Rica",
          "South America",
          "Latvia",
          "Croatia",
          "Northern Cyprus",
          "Slovakia",
          "Sri Lanka",
          "Morocco",
          "Serbia",
          "Brazil",
          "Saint Kitts and Nevis",
          "Wallis and Futuna",
          "Argentina",
          "Fiji",
          "El Salvador",
          "Slovenia",
          "Macao",
          "North America",
          "Estonia",
          "Panama",
          "Japan",
          "Poland",
          "Hong Kong",
          "Ecuador",
          "Europe",
          "British Virgin Islands",
          "Malaysia",
          "Saudi Arabia",
          "Dominican Republic",
          "Upper middle income",
          "Cambodia",
          "Czechia",
          "Turkey",
          "High income",
          "Greece",
          "Switzerland",
          "United States",
          "Hungary",
          "Curacao",
          "Cuba",
          "Liechtenstein",
          "Sint Maarten (Dutch part)",
          "Mauritius",
          "Monaco",
          "Lithuania",
          "Austria",
          "European Union",
          "Cook Islands",
          "Norway",
          "Finland",
          "Sweden",
          "Andorra",
          "Germany",
          "Cyprus",
          "Luxembourg",
          "Anguilla",
          "Maldives",
          "Greenland",
          "France",
          "Italy",
          "Falkland Islands",
          "Netherlands",
          "Turks and Caicos Islands",
          "Northern Ireland",
          "Saint Helena",
          "Mongolia",
          "United Kingdom",
          "England",
          "Ireland",
          "Bhutan",
          "Bermuda",
          "San Marino",
          "Spain",
          "China",
          "Nauru",
          "Belgium",
          "Aruba",
          "Canada",
          "Portugal",
          "Iceland",
          "Scotland",
          "Wales",
          "Faeroe Islands",
          "Denmark",
          "Bahrain",
          "Jersey",
          "Seychelles",
          "Chile",
          "Guernsey",
          "Qatar",
          "Isle of Man",
          "Niue",
          "Israel",
          "Singapore",
          "Cayman Islands",
          "Uruguay",
          "Malta",
          "Pitcairn",
          "United Arab Emirates",
          "Gibraltar"
         ],
         "yaxis": "y"
        }
       ],
       "layout": {
        "barmode": "relative",
        "height": 4000,
        "legend": {
         "tracegroupgap": 0
        },
        "margin": {
         "t": 60
        },
        "template": {
         "data": {
          "bar": [
           {
            "error_x": {
             "color": "#2a3f5f"
            },
            "error_y": {
             "color": "#2a3f5f"
            },
            "marker": {
             "line": {
              "color": "#E5ECF6",
              "width": 0.5
             },
             "pattern": {
              "fillmode": "overlay",
              "size": 10,
              "solidity": 0.2
             }
            },
            "type": "bar"
           }
          ],
          "barpolar": [
           {
            "marker": {
             "line": {
              "color": "#E5ECF6",
              "width": 0.5
             },
             "pattern": {
              "fillmode": "overlay",
              "size": 10,
              "solidity": 0.2
             }
            },
            "type": "barpolar"
           }
          ],
          "carpet": [
           {
            "aaxis": {
             "endlinecolor": "#2a3f5f",
             "gridcolor": "white",
             "linecolor": "white",
             "minorgridcolor": "white",
             "startlinecolor": "#2a3f5f"
            },
            "baxis": {
             "endlinecolor": "#2a3f5f",
             "gridcolor": "white",
             "linecolor": "white",
             "minorgridcolor": "white",
             "startlinecolor": "#2a3f5f"
            },
            "type": "carpet"
           }
          ],
          "choropleth": [
           {
            "colorbar": {
             "outlinewidth": 0,
             "ticks": ""
            },
            "type": "choropleth"
           }
          ],
          "contour": [
           {
            "colorbar": {
             "outlinewidth": 0,
             "ticks": ""
            },
            "colorscale": [
             [
              0,
              "#0d0887"
             ],
             [
              0.1111111111111111,
              "#46039f"
             ],
             [
              0.2222222222222222,
              "#7201a8"
             ],
             [
              0.3333333333333333,
              "#9c179e"
             ],
             [
              0.4444444444444444,
              "#bd3786"
             ],
             [
              0.5555555555555556,
              "#d8576b"
             ],
             [
              0.6666666666666666,
              "#ed7953"
             ],
             [
              0.7777777777777778,
              "#fb9f3a"
             ],
             [
              0.8888888888888888,
              "#fdca26"
             ],
             [
              1,
              "#f0f921"
             ]
            ],
            "type": "contour"
           }
          ],
          "contourcarpet": [
           {
            "colorbar": {
             "outlinewidth": 0,
             "ticks": ""
            },
            "type": "contourcarpet"
           }
          ],
          "heatmap": [
           {
            "colorbar": {
             "outlinewidth": 0,
             "ticks": ""
            },
            "colorscale": [
             [
              0,
              "#0d0887"
             ],
             [
              0.1111111111111111,
              "#46039f"
             ],
             [
              0.2222222222222222,
              "#7201a8"
             ],
             [
              0.3333333333333333,
              "#9c179e"
             ],
             [
              0.4444444444444444,
              "#bd3786"
             ],
             [
              0.5555555555555556,
              "#d8576b"
             ],
             [
              0.6666666666666666,
              "#ed7953"
             ],
             [
              0.7777777777777778,
              "#fb9f3a"
             ],
             [
              0.8888888888888888,
              "#fdca26"
             ],
             [
              1,
              "#f0f921"
             ]
            ],
            "type": "heatmap"
           }
          ],
          "heatmapgl": [
           {
            "colorbar": {
             "outlinewidth": 0,
             "ticks": ""
            },
            "colorscale": [
             [
              0,
              "#0d0887"
             ],
             [
              0.1111111111111111,
              "#46039f"
             ],
             [
              0.2222222222222222,
              "#7201a8"
             ],
             [
              0.3333333333333333,
              "#9c179e"
             ],
             [
              0.4444444444444444,
              "#bd3786"
             ],
             [
              0.5555555555555556,
              "#d8576b"
             ],
             [
              0.6666666666666666,
              "#ed7953"
             ],
             [
              0.7777777777777778,
              "#fb9f3a"
             ],
             [
              0.8888888888888888,
              "#fdca26"
             ],
             [
              1,
              "#f0f921"
             ]
            ],
            "type": "heatmapgl"
           }
          ],
          "histogram": [
           {
            "marker": {
             "pattern": {
              "fillmode": "overlay",
              "size": 10,
              "solidity": 0.2
             }
            },
            "type": "histogram"
           }
          ],
          "histogram2d": [
           {
            "colorbar": {
             "outlinewidth": 0,
             "ticks": ""
            },
            "colorscale": [
             [
              0,
              "#0d0887"
             ],
             [
              0.1111111111111111,
              "#46039f"
             ],
             [
              0.2222222222222222,
              "#7201a8"
             ],
             [
              0.3333333333333333,
              "#9c179e"
             ],
             [
              0.4444444444444444,
              "#bd3786"
             ],
             [
              0.5555555555555556,
              "#d8576b"
             ],
             [
              0.6666666666666666,
              "#ed7953"
             ],
             [
              0.7777777777777778,
              "#fb9f3a"
             ],
             [
              0.8888888888888888,
              "#fdca26"
             ],
             [
              1,
              "#f0f921"
             ]
            ],
            "type": "histogram2d"
           }
          ],
          "histogram2dcontour": [
           {
            "colorbar": {
             "outlinewidth": 0,
             "ticks": ""
            },
            "colorscale": [
             [
              0,
              "#0d0887"
             ],
             [
              0.1111111111111111,
              "#46039f"
             ],
             [
              0.2222222222222222,
              "#7201a8"
             ],
             [
              0.3333333333333333,
              "#9c179e"
             ],
             [
              0.4444444444444444,
              "#bd3786"
             ],
             [
              0.5555555555555556,
              "#d8576b"
             ],
             [
              0.6666666666666666,
              "#ed7953"
             ],
             [
              0.7777777777777778,
              "#fb9f3a"
             ],
             [
              0.8888888888888888,
              "#fdca26"
             ],
             [
              1,
              "#f0f921"
             ]
            ],
            "type": "histogram2dcontour"
           }
          ],
          "mesh3d": [
           {
            "colorbar": {
             "outlinewidth": 0,
             "ticks": ""
            },
            "type": "mesh3d"
           }
          ],
          "parcoords": [
           {
            "line": {
             "colorbar": {
              "outlinewidth": 0,
              "ticks": ""
             }
            },
            "type": "parcoords"
           }
          ],
          "pie": [
           {
            "automargin": true,
            "type": "pie"
           }
          ],
          "scatter": [
           {
            "marker": {
             "colorbar": {
              "outlinewidth": 0,
              "ticks": ""
             }
            },
            "type": "scatter"
           }
          ],
          "scatter3d": [
           {
            "line": {
             "colorbar": {
              "outlinewidth": 0,
              "ticks": ""
             }
            },
            "marker": {
             "colorbar": {
              "outlinewidth": 0,
              "ticks": ""
             }
            },
            "type": "scatter3d"
           }
          ],
          "scattercarpet": [
           {
            "marker": {
             "colorbar": {
              "outlinewidth": 0,
              "ticks": ""
             }
            },
            "type": "scattercarpet"
           }
          ],
          "scattergeo": [
           {
            "marker": {
             "colorbar": {
              "outlinewidth": 0,
              "ticks": ""
             }
            },
            "type": "scattergeo"
           }
          ],
          "scattergl": [
           {
            "marker": {
             "colorbar": {
              "outlinewidth": 0,
              "ticks": ""
             }
            },
            "type": "scattergl"
           }
          ],
          "scattermapbox": [
           {
            "marker": {
             "colorbar": {
              "outlinewidth": 0,
              "ticks": ""
             }
            },
            "type": "scattermapbox"
           }
          ],
          "scatterpolar": [
           {
            "marker": {
             "colorbar": {
              "outlinewidth": 0,
              "ticks": ""
             }
            },
            "type": "scatterpolar"
           }
          ],
          "scatterpolargl": [
           {
            "marker": {
             "colorbar": {
              "outlinewidth": 0,
              "ticks": ""
             }
            },
            "type": "scatterpolargl"
           }
          ],
          "scatterternary": [
           {
            "marker": {
             "colorbar": {
              "outlinewidth": 0,
              "ticks": ""
             }
            },
            "type": "scatterternary"
           }
          ],
          "surface": [
           {
            "colorbar": {
             "outlinewidth": 0,
             "ticks": ""
            },
            "colorscale": [
             [
              0,
              "#0d0887"
             ],
             [
              0.1111111111111111,
              "#46039f"
             ],
             [
              0.2222222222222222,
              "#7201a8"
             ],
             [
              0.3333333333333333,
              "#9c179e"
             ],
             [
              0.4444444444444444,
              "#bd3786"
             ],
             [
              0.5555555555555556,
              "#d8576b"
             ],
             [
              0.6666666666666666,
              "#ed7953"
             ],
             [
              0.7777777777777778,
              "#fb9f3a"
             ],
             [
              0.8888888888888888,
              "#fdca26"
             ],
             [
              1,
              "#f0f921"
             ]
            ],
            "type": "surface"
           }
          ],
          "table": [
           {
            "cells": {
             "fill": {
              "color": "#EBF0F8"
             },
             "line": {
              "color": "white"
             }
            },
            "header": {
             "fill": {
              "color": "#C8D4E3"
             },
             "line": {
              "color": "white"
             }
            },
            "type": "table"
           }
          ]
         },
         "layout": {
          "annotationdefaults": {
           "arrowcolor": "#2a3f5f",
           "arrowhead": 0,
           "arrowwidth": 1
          },
          "autotypenumbers": "strict",
          "coloraxis": {
           "colorbar": {
            "outlinewidth": 0,
            "ticks": ""
           }
          },
          "colorscale": {
           "diverging": [
            [
             0,
             "#8e0152"
            ],
            [
             0.1,
             "#c51b7d"
            ],
            [
             0.2,
             "#de77ae"
            ],
            [
             0.3,
             "#f1b6da"
            ],
            [
             0.4,
             "#fde0ef"
            ],
            [
             0.5,
             "#f7f7f7"
            ],
            [
             0.6,
             "#e6f5d0"
            ],
            [
             0.7,
             "#b8e186"
            ],
            [
             0.8,
             "#7fbc41"
            ],
            [
             0.9,
             "#4d9221"
            ],
            [
             1,
             "#276419"
            ]
           ],
           "sequential": [
            [
             0,
             "#0d0887"
            ],
            [
             0.1111111111111111,
             "#46039f"
            ],
            [
             0.2222222222222222,
             "#7201a8"
            ],
            [
             0.3333333333333333,
             "#9c179e"
            ],
            [
             0.4444444444444444,
             "#bd3786"
            ],
            [
             0.5555555555555556,
             "#d8576b"
            ],
            [
             0.6666666666666666,
             "#ed7953"
            ],
            [
             0.7777777777777778,
             "#fb9f3a"
            ],
            [
             0.8888888888888888,
             "#fdca26"
            ],
            [
             1,
             "#f0f921"
            ]
           ],
           "sequentialminus": [
            [
             0,
             "#0d0887"
            ],
            [
             0.1111111111111111,
             "#46039f"
            ],
            [
             0.2222222222222222,
             "#7201a8"
            ],
            [
             0.3333333333333333,
             "#9c179e"
            ],
            [
             0.4444444444444444,
             "#bd3786"
            ],
            [
             0.5555555555555556,
             "#d8576b"
            ],
            [
             0.6666666666666666,
             "#ed7953"
            ],
            [
             0.7777777777777778,
             "#fb9f3a"
            ],
            [
             0.8888888888888888,
             "#fdca26"
            ],
            [
             1,
             "#f0f921"
            ]
           ]
          },
          "colorway": [
           "#636efa",
           "#EF553B",
           "#00cc96",
           "#ab63fa",
           "#FFA15A",
           "#19d3f3",
           "#FF6692",
           "#B6E880",
           "#FF97FF",
           "#FECB52"
          ],
          "font": {
           "color": "#2a3f5f"
          },
          "geo": {
           "bgcolor": "white",
           "lakecolor": "white",
           "landcolor": "#E5ECF6",
           "showlakes": true,
           "showland": true,
           "subunitcolor": "white"
          },
          "hoverlabel": {
           "align": "left"
          },
          "hovermode": "closest",
          "mapbox": {
           "style": "light"
          },
          "paper_bgcolor": "white",
          "plot_bgcolor": "#E5ECF6",
          "polar": {
           "angularaxis": {
            "gridcolor": "white",
            "linecolor": "white",
            "ticks": ""
           },
           "bgcolor": "#E5ECF6",
           "radialaxis": {
            "gridcolor": "white",
            "linecolor": "white",
            "ticks": ""
           }
          },
          "scene": {
           "xaxis": {
            "backgroundcolor": "#E5ECF6",
            "gridcolor": "white",
            "gridwidth": 2,
            "linecolor": "white",
            "showbackground": true,
            "ticks": "",
            "zerolinecolor": "white"
           },
           "yaxis": {
            "backgroundcolor": "#E5ECF6",
            "gridcolor": "white",
            "gridwidth": 2,
            "linecolor": "white",
            "showbackground": true,
            "ticks": "",
            "zerolinecolor": "white"
           },
           "zaxis": {
            "backgroundcolor": "#E5ECF6",
            "gridcolor": "white",
            "gridwidth": 2,
            "linecolor": "white",
            "showbackground": true,
            "ticks": "",
            "zerolinecolor": "white"
           }
          },
          "shapedefaults": {
           "line": {
            "color": "#2a3f5f"
           }
          },
          "ternary": {
           "aaxis": {
            "gridcolor": "white",
            "linecolor": "white",
            "ticks": ""
           },
           "baxis": {
            "gridcolor": "white",
            "linecolor": "white",
            "ticks": ""
           },
           "bgcolor": "#E5ECF6",
           "caxis": {
            "gridcolor": "white",
            "linecolor": "white",
            "ticks": ""
           }
          },
          "title": {
           "x": 0.05
          },
          "xaxis": {
           "automargin": true,
           "gridcolor": "white",
           "linecolor": "white",
           "ticks": "",
           "title": {
            "standoff": 15
           },
           "zerolinecolor": "white",
           "zerolinewidth": 2
          },
          "yaxis": {
           "automargin": true,
           "gridcolor": "white",
           "linecolor": "white",
           "ticks": "",
           "title": {
            "standoff": 15
           },
           "zerolinecolor": "white",
           "zerolinewidth": 2
          }
         }
        },
        "uniformtext": {
         "minsize": 8,
         "mode": "hide"
        },
        "xaxis": {
         "anchor": "y",
         "domain": [
          0,
          1
         ],
         "side": "top",
         "title": {
          "text": "total_vaccinations_per_hundred"
         }
        },
        "yaxis": {
         "anchor": "x",
         "domain": [
          0,
          1
         ],
         "title": {}
        }
       }
      }
     },
     "metadata": {}
    }
   ],
   "metadata": {}
  },
  {
   "cell_type": "code",
   "execution_count": 18,
   "source": [
    "custom_data = df_vaccination_by_country['location'].tolist()\r\n",
    "custom_data"
   ],
   "outputs": [
    {
     "output_type": "execute_result",
     "data": {
      "text/plain": [
       "['Democratic Republic of Congo',\n",
       " 'Haiti',\n",
       " 'Chad',\n",
       " 'Burkina Faso',\n",
       " 'Tanzania',\n",
       " 'South Sudan',\n",
       " 'Turkmenistan',\n",
       " 'Madagascar',\n",
       " 'Benin',\n",
       " 'Yemen',\n",
       " 'Papua New Guinea',\n",
       " 'Mali',\n",
       " 'Guinea-Bissau',\n",
       " 'Cameroon',\n",
       " 'Somalia',\n",
       " 'Sudan',\n",
       " 'Nigeria',\n",
       " 'Low income',\n",
       " 'Central African Republic',\n",
       " 'Niger',\n",
       " 'Ethiopia',\n",
       " 'Syria',\n",
       " 'Liberia',\n",
       " 'Uganda',\n",
       " 'Sierra Leone',\n",
       " 'Zambia',\n",
       " 'Lesotho',\n",
       " 'Ghana',\n",
       " 'Malawi',\n",
       " 'Kenya',\n",
       " 'Afghanistan',\n",
       " \"Cote d'Ivoire\",\n",
       " 'Congo',\n",
       " 'Iraq',\n",
       " 'Angola',\n",
       " 'Mauritania',\n",
       " 'Djibouti',\n",
       " 'Gabon',\n",
       " 'Mozambique',\n",
       " 'Egypt',\n",
       " 'Togo',\n",
       " 'Africa',\n",
       " 'Guinea',\n",
       " 'Armenia',\n",
       " 'Solomon Islands',\n",
       " 'Nicaragua',\n",
       " 'Algeria',\n",
       " 'Senegal',\n",
       " 'Vanuatu',\n",
       " 'Namibia',\n",
       " 'Rwanda',\n",
       " 'Myanmar',\n",
       " 'Kiribati',\n",
       " 'Libya',\n",
       " 'Gambia',\n",
       " 'Bangladesh',\n",
       " 'Jamaica',\n",
       " 'Kyrgyzstan',\n",
       " 'Venezuela',\n",
       " 'Botswana',\n",
       " 'Vietnam',\n",
       " 'South Africa',\n",
       " 'Eswatini',\n",
       " 'Ukraine',\n",
       " 'Sao Tome and Principe',\n",
       " 'Tajikistan',\n",
       " 'Pakistan',\n",
       " 'Palestine',\n",
       " 'Guatemala',\n",
       " 'Equatorial Guinea',\n",
       " 'Iran',\n",
       " 'Saint Vincent and the Grenadines',\n",
       " 'Georgia',\n",
       " 'Zimbabwe',\n",
       " 'Comoros',\n",
       " 'Philippines',\n",
       " 'Bonaire Sint Eustatius and Saba',\n",
       " 'Laos',\n",
       " 'Bosnia and Herzegovina',\n",
       " 'Belarus',\n",
       " 'Nepal',\n",
       " 'Moldova',\n",
       " 'Kosovo',\n",
       " 'Lower middle income',\n",
       " 'Bulgaria',\n",
       " 'Bahamas',\n",
       " 'Indonesia',\n",
       " 'Honduras',\n",
       " 'Saint Lucia',\n",
       " 'Lebanon',\n",
       " 'Grenada',\n",
       " 'Uzbekistan',\n",
       " 'Thailand',\n",
       " 'Timor',\n",
       " 'Tuvalu',\n",
       " 'Tunisia',\n",
       " 'India',\n",
       " 'Taiwan',\n",
       " 'Bolivia',\n",
       " 'Albania',\n",
       " 'Cape Verde',\n",
       " 'Oceania',\n",
       " 'Romania',\n",
       " 'New Caledonia',\n",
       " 'Tonga',\n",
       " 'Peru',\n",
       " 'Suriname',\n",
       " 'Russia',\n",
       " 'Paraguay',\n",
       " 'North Macedonia',\n",
       " 'New Zealand',\n",
       " 'Belize',\n",
       " 'Kuwait',\n",
       " 'Brunei',\n",
       " 'Montserrat',\n",
       " 'Dominica',\n",
       " 'Guyana',\n",
       " 'Montenegro',\n",
       " 'Jordan',\n",
       " 'Kazakhstan',\n",
       " 'Azerbaijan',\n",
       " 'Trinidad and Tobago',\n",
       " 'Mexico',\n",
       " 'Samoa',\n",
       " 'World',\n",
       " 'Colombia',\n",
       " 'Oman',\n",
       " 'Australia',\n",
       " 'Barbados',\n",
       " 'Asia',\n",
       " 'Tokelau',\n",
       " 'South Korea',\n",
       " 'Antigua and Barbuda',\n",
       " 'French Polynesia',\n",
       " 'Costa Rica',\n",
       " 'South America',\n",
       " 'Latvia',\n",
       " 'Croatia',\n",
       " 'Northern Cyprus',\n",
       " 'Slovakia',\n",
       " 'Sri Lanka',\n",
       " 'Morocco',\n",
       " 'Serbia',\n",
       " 'Brazil',\n",
       " 'Saint Kitts and Nevis',\n",
       " 'Wallis and Futuna',\n",
       " 'Argentina',\n",
       " 'Fiji',\n",
       " 'El Salvador',\n",
       " 'Slovenia',\n",
       " 'Macao',\n",
       " 'North America',\n",
       " 'Estonia',\n",
       " 'Panama',\n",
       " 'Japan',\n",
       " 'Poland',\n",
       " 'Hong Kong',\n",
       " 'Ecuador',\n",
       " 'Europe',\n",
       " 'British Virgin Islands',\n",
       " 'Malaysia',\n",
       " 'Saudi Arabia',\n",
       " 'Dominican Republic',\n",
       " 'Upper middle income',\n",
       " 'Cambodia',\n",
       " 'Czechia',\n",
       " 'Turkey',\n",
       " 'High income',\n",
       " 'Greece',\n",
       " 'Switzerland',\n",
       " 'United States',\n",
       " 'Hungary',\n",
       " 'Curacao',\n",
       " 'Cuba',\n",
       " 'Liechtenstein',\n",
       " 'Sint Maarten (Dutch part)',\n",
       " 'Mauritius',\n",
       " 'Monaco',\n",
       " 'Lithuania',\n",
       " 'Austria',\n",
       " 'European Union',\n",
       " 'Cook Islands',\n",
       " 'Norway',\n",
       " 'Finland',\n",
       " 'Sweden',\n",
       " 'Andorra',\n",
       " 'Germany',\n",
       " 'Cyprus',\n",
       " 'Luxembourg',\n",
       " 'Anguilla',\n",
       " 'Maldives',\n",
       " 'Greenland',\n",
       " 'France',\n",
       " 'Italy',\n",
       " 'Falkland Islands',\n",
       " 'Netherlands',\n",
       " 'Turks and Caicos Islands',\n",
       " 'Northern Ireland',\n",
       " 'Saint Helena',\n",
       " 'Mongolia',\n",
       " 'United Kingdom',\n",
       " 'England',\n",
       " 'Ireland',\n",
       " 'Bhutan',\n",
       " 'Bermuda',\n",
       " 'San Marino',\n",
       " 'Spain',\n",
       " 'China',\n",
       " 'Nauru',\n",
       " 'Belgium',\n",
       " 'Aruba',\n",
       " 'Canada',\n",
       " 'Portugal',\n",
       " 'Iceland',\n",
       " 'Scotland',\n",
       " 'Wales',\n",
       " 'Faeroe Islands',\n",
       " 'Denmark',\n",
       " 'Bahrain',\n",
       " 'Jersey',\n",
       " 'Seychelles',\n",
       " 'Chile',\n",
       " 'Guernsey',\n",
       " 'Qatar',\n",
       " 'Isle of Man',\n",
       " 'Niue',\n",
       " 'Israel',\n",
       " 'Singapore',\n",
       " 'Cayman Islands',\n",
       " 'Uruguay',\n",
       " 'Malta',\n",
       " 'Pitcairn',\n",
       " 'United Arab Emirates',\n",
       " 'Gibraltar']"
      ]
     },
     "metadata": {},
     "execution_count": 18
    }
   ],
   "metadata": {}
  },
  {
   "cell_type": "code",
   "execution_count": 19,
   "source": [
    "df_vaccination_by_country.head()"
   ],
   "outputs": [
    {
     "output_type": "execute_result",
     "data": {
      "text/html": [
       "<div>\n",
       "<style scoped>\n",
       "    .dataframe tbody tr th:only-of-type {\n",
       "        vertical-align: middle;\n",
       "    }\n",
       "\n",
       "    .dataframe tbody tr th {\n",
       "        vertical-align: top;\n",
       "    }\n",
       "\n",
       "    .dataframe thead th {\n",
       "        text-align: right;\n",
       "    }\n",
       "</style>\n",
       "<table border=\"1\" class=\"dataframe\">\n",
       "  <thead>\n",
       "    <tr style=\"text-align: right;\">\n",
       "      <th></th>\n",
       "      <th>location</th>\n",
       "      <th>iso_code</th>\n",
       "      <th>date</th>\n",
       "      <th>total_vaccinations</th>\n",
       "      <th>people_vaccinated</th>\n",
       "      <th>people_fully_vaccinated</th>\n",
       "      <th>total_boosters</th>\n",
       "      <th>daily_vaccinations_raw</th>\n",
       "      <th>daily_vaccinations</th>\n",
       "      <th>total_vaccinations_per_hundred</th>\n",
       "      <th>people_vaccinated_per_hundred</th>\n",
       "      <th>people_fully_vaccinated_per_hundred</th>\n",
       "      <th>total_boosters_per_hundred</th>\n",
       "      <th>daily_vaccinations_per_million</th>\n",
       "    </tr>\n",
       "  </thead>\n",
       "  <tbody>\n",
       "    <tr>\n",
       "      <th>54</th>\n",
       "      <td>Democratic Republic of Congo</td>\n",
       "      <td>COD</td>\n",
       "      <td>2021-08-23</td>\n",
       "      <td>87910.0</td>\n",
       "      <td>82039.0</td>\n",
       "      <td>5871.0</td>\n",
       "      <td>NaN</td>\n",
       "      <td>NaN</td>\n",
       "      <td>177.0</td>\n",
       "      <td>0.10</td>\n",
       "      <td>0.09</td>\n",
       "      <td>0.01</td>\n",
       "      <td>NaN</td>\n",
       "      <td>2.0</td>\n",
       "    </tr>\n",
       "    <tr>\n",
       "      <th>89</th>\n",
       "      <td>Haiti</td>\n",
       "      <td>HTI</td>\n",
       "      <td>2021-08-21</td>\n",
       "      <td>26109.0</td>\n",
       "      <td>24560.0</td>\n",
       "      <td>1890.0</td>\n",
       "      <td>NaN</td>\n",
       "      <td>2244.0</td>\n",
       "      <td>791.0</td>\n",
       "      <td>0.23</td>\n",
       "      <td>0.22</td>\n",
       "      <td>0.02</td>\n",
       "      <td>NaN</td>\n",
       "      <td>69.0</td>\n",
       "    </tr>\n",
       "    <tr>\n",
       "      <th>40</th>\n",
       "      <td>Chad</td>\n",
       "      <td>TCD</td>\n",
       "      <td>2021-08-19</td>\n",
       "      <td>45390.0</td>\n",
       "      <td>33525.0</td>\n",
       "      <td>11865.0</td>\n",
       "      <td>NaN</td>\n",
       "      <td>NaN</td>\n",
       "      <td>677.0</td>\n",
       "      <td>0.28</td>\n",
       "      <td>0.20</td>\n",
       "      <td>0.07</td>\n",
       "      <td>NaN</td>\n",
       "      <td>41.0</td>\n",
       "    </tr>\n",
       "    <tr>\n",
       "      <th>33</th>\n",
       "      <td>Burkina Faso</td>\n",
       "      <td>BFA</td>\n",
       "      <td>2021-08-16</td>\n",
       "      <td>71510.0</td>\n",
       "      <td>53814.0</td>\n",
       "      <td>17696.0</td>\n",
       "      <td>NaN</td>\n",
       "      <td>NaN</td>\n",
       "      <td>4729.0</td>\n",
       "      <td>0.34</td>\n",
       "      <td>0.26</td>\n",
       "      <td>0.08</td>\n",
       "      <td>NaN</td>\n",
       "      <td>226.0</td>\n",
       "    </tr>\n",
       "    <tr>\n",
       "      <th>205</th>\n",
       "      <td>Tanzania</td>\n",
       "      <td>TZA</td>\n",
       "      <td>2021-08-16</td>\n",
       "      <td>218621.0</td>\n",
       "      <td>218621.0</td>\n",
       "      <td>218621.0</td>\n",
       "      <td>NaN</td>\n",
       "      <td>NaN</td>\n",
       "      <td>14110.0</td>\n",
       "      <td>0.37</td>\n",
       "      <td>0.37</td>\n",
       "      <td>0.37</td>\n",
       "      <td>NaN</td>\n",
       "      <td>236.0</td>\n",
       "    </tr>\n",
       "  </tbody>\n",
       "</table>\n",
       "</div>"
      ],
      "text/plain": [
       "                         location iso_code        date  total_vaccinations  \\\n",
       "54   Democratic Republic of Congo      COD  2021-08-23             87910.0   \n",
       "89                          Haiti      HTI  2021-08-21             26109.0   \n",
       "40                           Chad      TCD  2021-08-19             45390.0   \n",
       "33                   Burkina Faso      BFA  2021-08-16             71510.0   \n",
       "205                      Tanzania      TZA  2021-08-16            218621.0   \n",
       "\n",
       "     people_vaccinated  people_fully_vaccinated  total_boosters  \\\n",
       "54             82039.0                   5871.0             NaN   \n",
       "89             24560.0                   1890.0             NaN   \n",
       "40             33525.0                  11865.0             NaN   \n",
       "33             53814.0                  17696.0             NaN   \n",
       "205           218621.0                 218621.0             NaN   \n",
       "\n",
       "     daily_vaccinations_raw  daily_vaccinations  \\\n",
       "54                      NaN               177.0   \n",
       "89                   2244.0               791.0   \n",
       "40                      NaN               677.0   \n",
       "33                      NaN              4729.0   \n",
       "205                     NaN             14110.0   \n",
       "\n",
       "     total_vaccinations_per_hundred  people_vaccinated_per_hundred  \\\n",
       "54                             0.10                           0.09   \n",
       "89                             0.23                           0.22   \n",
       "40                             0.28                           0.20   \n",
       "33                             0.34                           0.26   \n",
       "205                            0.37                           0.37   \n",
       "\n",
       "     people_fully_vaccinated_per_hundred  total_boosters_per_hundred  \\\n",
       "54                                  0.01                         NaN   \n",
       "89                                  0.02                         NaN   \n",
       "40                                  0.07                         NaN   \n",
       "33                                  0.08                         NaN   \n",
       "205                                 0.37                         NaN   \n",
       "\n",
       "     daily_vaccinations_per_million  \n",
       "54                              2.0  \n",
       "89                             69.0  \n",
       "40                             41.0  \n",
       "33                            226.0  \n",
       "205                           236.0  "
      ]
     },
     "metadata": {},
     "execution_count": 19
    }
   ],
   "metadata": {}
  },
  {
   "cell_type": "code",
   "execution_count": 20,
   "source": [
    "df_vaccination_by_country['location'].describe()"
   ],
   "outputs": [
    {
     "output_type": "execute_result",
     "data": {
      "text/plain": [
       "count                              234\n",
       "unique                             234\n",
       "top       Democratic Republic of Congo\n",
       "freq                                 1\n",
       "Name: location, dtype: object"
      ]
     },
     "metadata": {},
     "execution_count": 20
    }
   ],
   "metadata": {}
  },
  {
   "cell_type": "code",
   "execution_count": 21,
   "source": [
    "df_vaccination_by_country.info()"
   ],
   "outputs": [
    {
     "output_type": "stream",
     "name": "stdout",
     "text": [
      "<class 'pandas.core.frame.DataFrame'>\n",
      "Int64Index: 234 entries, 54 to 80\n",
      "Data columns (total 14 columns):\n",
      " #   Column                               Non-Null Count  Dtype  \n",
      "---  ------                               --------------  -----  \n",
      " 0   location                             234 non-null    object \n",
      " 1   iso_code                             234 non-null    object \n",
      " 2   date                                 234 non-null    object \n",
      " 3   total_vaccinations                   234 non-null    float64\n",
      " 4   people_vaccinated                    234 non-null    float64\n",
      " 5   people_fully_vaccinated              228 non-null    float64\n",
      " 6   total_boosters                       14 non-null     float64\n",
      " 7   daily_vaccinations_raw               183 non-null    float64\n",
      " 8   daily_vaccinations                   232 non-null    float64\n",
      " 9   total_vaccinations_per_hundred       234 non-null    float64\n",
      " 10  people_vaccinated_per_hundred        234 non-null    float64\n",
      " 11  people_fully_vaccinated_per_hundred  228 non-null    float64\n",
      " 12  total_boosters_per_hundred           14 non-null     float64\n",
      " 13  daily_vaccinations_per_million       232 non-null    float64\n",
      "dtypes: float64(11), object(3)\n",
      "memory usage: 27.4+ KB\n"
     ]
    }
   ],
   "metadata": {}
  },
  {
   "cell_type": "code",
   "execution_count": 22,
   "source": [
    "df_vaccination_by_country[df_vaccination_by_country['location']==\"Taiwan\"].index"
   ],
   "outputs": [
    {
     "output_type": "execute_result",
     "data": {
      "text/plain": [
       "Int64Index([203], dtype='int64')"
      ]
     },
     "metadata": {},
     "execution_count": 22
    }
   ],
   "metadata": {}
  },
  {
   "cell_type": "code",
   "execution_count": 23,
   "source": [
    "countries = df_vaccination_by_country.sort_values(by='location')['location'].tolist()\r\n",
    "countries"
   ],
   "outputs": [
    {
     "output_type": "execute_result",
     "data": {
      "text/plain": [
       "['Afghanistan',\n",
       " 'Africa',\n",
       " 'Albania',\n",
       " 'Algeria',\n",
       " 'Andorra',\n",
       " 'Angola',\n",
       " 'Anguilla',\n",
       " 'Antigua and Barbuda',\n",
       " 'Argentina',\n",
       " 'Armenia',\n",
       " 'Aruba',\n",
       " 'Asia',\n",
       " 'Australia',\n",
       " 'Austria',\n",
       " 'Azerbaijan',\n",
       " 'Bahamas',\n",
       " 'Bahrain',\n",
       " 'Bangladesh',\n",
       " 'Barbados',\n",
       " 'Belarus',\n",
       " 'Belgium',\n",
       " 'Belize',\n",
       " 'Benin',\n",
       " 'Bermuda',\n",
       " 'Bhutan',\n",
       " 'Bolivia',\n",
       " 'Bonaire Sint Eustatius and Saba',\n",
       " 'Bosnia and Herzegovina',\n",
       " 'Botswana',\n",
       " 'Brazil',\n",
       " 'British Virgin Islands',\n",
       " 'Brunei',\n",
       " 'Bulgaria',\n",
       " 'Burkina Faso',\n",
       " 'Cambodia',\n",
       " 'Cameroon',\n",
       " 'Canada',\n",
       " 'Cape Verde',\n",
       " 'Cayman Islands',\n",
       " 'Central African Republic',\n",
       " 'Chad',\n",
       " 'Chile',\n",
       " 'China',\n",
       " 'Colombia',\n",
       " 'Comoros',\n",
       " 'Congo',\n",
       " 'Cook Islands',\n",
       " 'Costa Rica',\n",
       " \"Cote d'Ivoire\",\n",
       " 'Croatia',\n",
       " 'Cuba',\n",
       " 'Curacao',\n",
       " 'Cyprus',\n",
       " 'Czechia',\n",
       " 'Democratic Republic of Congo',\n",
       " 'Denmark',\n",
       " 'Djibouti',\n",
       " 'Dominica',\n",
       " 'Dominican Republic',\n",
       " 'Ecuador',\n",
       " 'Egypt',\n",
       " 'El Salvador',\n",
       " 'England',\n",
       " 'Equatorial Guinea',\n",
       " 'Estonia',\n",
       " 'Eswatini',\n",
       " 'Ethiopia',\n",
       " 'Europe',\n",
       " 'European Union',\n",
       " 'Faeroe Islands',\n",
       " 'Falkland Islands',\n",
       " 'Fiji',\n",
       " 'Finland',\n",
       " 'France',\n",
       " 'French Polynesia',\n",
       " 'Gabon',\n",
       " 'Gambia',\n",
       " 'Georgia',\n",
       " 'Germany',\n",
       " 'Ghana',\n",
       " 'Gibraltar',\n",
       " 'Greece',\n",
       " 'Greenland',\n",
       " 'Grenada',\n",
       " 'Guatemala',\n",
       " 'Guernsey',\n",
       " 'Guinea',\n",
       " 'Guinea-Bissau',\n",
       " 'Guyana',\n",
       " 'Haiti',\n",
       " 'High income',\n",
       " 'Honduras',\n",
       " 'Hong Kong',\n",
       " 'Hungary',\n",
       " 'Iceland',\n",
       " 'India',\n",
       " 'Indonesia',\n",
       " 'Iran',\n",
       " 'Iraq',\n",
       " 'Ireland',\n",
       " 'Isle of Man',\n",
       " 'Israel',\n",
       " 'Italy',\n",
       " 'Jamaica',\n",
       " 'Japan',\n",
       " 'Jersey',\n",
       " 'Jordan',\n",
       " 'Kazakhstan',\n",
       " 'Kenya',\n",
       " 'Kiribati',\n",
       " 'Kosovo',\n",
       " 'Kuwait',\n",
       " 'Kyrgyzstan',\n",
       " 'Laos',\n",
       " 'Latvia',\n",
       " 'Lebanon',\n",
       " 'Lesotho',\n",
       " 'Liberia',\n",
       " 'Libya',\n",
       " 'Liechtenstein',\n",
       " 'Lithuania',\n",
       " 'Low income',\n",
       " 'Lower middle income',\n",
       " 'Luxembourg',\n",
       " 'Macao',\n",
       " 'Madagascar',\n",
       " 'Malawi',\n",
       " 'Malaysia',\n",
       " 'Maldives',\n",
       " 'Mali',\n",
       " 'Malta',\n",
       " 'Mauritania',\n",
       " 'Mauritius',\n",
       " 'Mexico',\n",
       " 'Moldova',\n",
       " 'Monaco',\n",
       " 'Mongolia',\n",
       " 'Montenegro',\n",
       " 'Montserrat',\n",
       " 'Morocco',\n",
       " 'Mozambique',\n",
       " 'Myanmar',\n",
       " 'Namibia',\n",
       " 'Nauru',\n",
       " 'Nepal',\n",
       " 'Netherlands',\n",
       " 'New Caledonia',\n",
       " 'New Zealand',\n",
       " 'Nicaragua',\n",
       " 'Niger',\n",
       " 'Nigeria',\n",
       " 'Niue',\n",
       " 'North America',\n",
       " 'North Macedonia',\n",
       " 'Northern Cyprus',\n",
       " 'Northern Ireland',\n",
       " 'Norway',\n",
       " 'Oceania',\n",
       " 'Oman',\n",
       " 'Pakistan',\n",
       " 'Palestine',\n",
       " 'Panama',\n",
       " 'Papua New Guinea',\n",
       " 'Paraguay',\n",
       " 'Peru',\n",
       " 'Philippines',\n",
       " 'Pitcairn',\n",
       " 'Poland',\n",
       " 'Portugal',\n",
       " 'Qatar',\n",
       " 'Romania',\n",
       " 'Russia',\n",
       " 'Rwanda',\n",
       " 'Saint Helena',\n",
       " 'Saint Kitts and Nevis',\n",
       " 'Saint Lucia',\n",
       " 'Saint Vincent and the Grenadines',\n",
       " 'Samoa',\n",
       " 'San Marino',\n",
       " 'Sao Tome and Principe',\n",
       " 'Saudi Arabia',\n",
       " 'Scotland',\n",
       " 'Senegal',\n",
       " 'Serbia',\n",
       " 'Seychelles',\n",
       " 'Sierra Leone',\n",
       " 'Singapore',\n",
       " 'Sint Maarten (Dutch part)',\n",
       " 'Slovakia',\n",
       " 'Slovenia',\n",
       " 'Solomon Islands',\n",
       " 'Somalia',\n",
       " 'South Africa',\n",
       " 'South America',\n",
       " 'South Korea',\n",
       " 'South Sudan',\n",
       " 'Spain',\n",
       " 'Sri Lanka',\n",
       " 'Sudan',\n",
       " 'Suriname',\n",
       " 'Sweden',\n",
       " 'Switzerland',\n",
       " 'Syria',\n",
       " 'Taiwan',\n",
       " 'Tajikistan',\n",
       " 'Tanzania',\n",
       " 'Thailand',\n",
       " 'Timor',\n",
       " 'Togo',\n",
       " 'Tokelau',\n",
       " 'Tonga',\n",
       " 'Trinidad and Tobago',\n",
       " 'Tunisia',\n",
       " 'Turkey',\n",
       " 'Turkmenistan',\n",
       " 'Turks and Caicos Islands',\n",
       " 'Tuvalu',\n",
       " 'Uganda',\n",
       " 'Ukraine',\n",
       " 'United Arab Emirates',\n",
       " 'United Kingdom',\n",
       " 'United States',\n",
       " 'Upper middle income',\n",
       " 'Uruguay',\n",
       " 'Uzbekistan',\n",
       " 'Vanuatu',\n",
       " 'Venezuela',\n",
       " 'Vietnam',\n",
       " 'Wales',\n",
       " 'Wallis and Futuna',\n",
       " 'World',\n",
       " 'Yemen',\n",
       " 'Zambia',\n",
       " 'Zimbabwe']"
      ]
     },
     "metadata": {},
     "execution_count": 23
    }
   ],
   "metadata": {}
  },
  {
   "cell_type": "code",
   "execution_count": 24,
   "source": [
    "countries.index('Taiwan')"
   ],
   "outputs": [
    {
     "output_type": "execute_result",
     "data": {
      "text/plain": [
       "203"
      ]
     },
     "metadata": {},
     "execution_count": 24
    }
   ],
   "metadata": {}
  },
  {
   "cell_type": "code",
   "execution_count": 25,
   "source": [
    "len(countries)"
   ],
   "outputs": [
    {
     "output_type": "execute_result",
     "data": {
      "text/plain": [
       "234"
      ]
     },
     "metadata": {},
     "execution_count": 25
    }
   ],
   "metadata": {}
  },
  {
   "cell_type": "code",
   "execution_count": null,
   "source": [],
   "outputs": [],
   "metadata": {}
  }
 ],
 "metadata": {
  "orig_nbformat": 4,
  "language_info": {
   "name": "python",
   "version": "3.9.6",
   "mimetype": "text/x-python",
   "codemirror_mode": {
    "name": "ipython",
    "version": 3
   },
   "pygments_lexer": "ipython3",
   "nbconvert_exporter": "python",
   "file_extension": ".py"
  },
  "kernelspec": {
   "name": "python3",
   "display_name": "Python 3.9.6 64-bit"
  },
  "interpreter": {
   "hash": "984944ce4eefbed249e2a3501e72ee0777f56e66d10a0a53283275062444400f"
  }
 },
 "nbformat": 4,
 "nbformat_minor": 2
}