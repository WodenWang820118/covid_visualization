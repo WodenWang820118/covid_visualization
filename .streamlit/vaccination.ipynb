{
 "cells": [
  {
   "cell_type": "code",
   "execution_count": 25,
   "source": [
    "import pandas as pd\r\n",
    "import numpy as np\r\n",
    "import plotly.express as px\r\n",
    "import matplotlib.pyplot as plt\r\n",
    "from matplotlib.widgets import Slider"
   ],
   "outputs": [],
   "metadata": {}
  },
  {
   "cell_type": "code",
   "execution_count": 55,
   "source": [
    "import plotly\r\n",
    "plotly.__version__"
   ],
   "outputs": [
    {
     "output_type": "execute_result",
     "data": {
      "text/plain": [
       "'5.2.2'"
      ]
     },
     "metadata": {},
     "execution_count": 55
    }
   ],
   "metadata": {}
  },
  {
   "cell_type": "code",
   "execution_count": 7,
   "source": [
    "vaccination_data = pd.read_csv(r'D:\\Master of IT\\Semester4\\Information visualization\\assignment2\\streamlit\\dataset\\covid-19-vaccination-rate-by-country/vaccinations.csv')\r\n",
    "df = pd.DataFrame(vaccination_data)\r\n",
    "df.head()"
   ],
   "outputs": [
    {
     "output_type": "execute_result",
     "data": {
      "text/plain": [
       "      location iso_code        date  total_vaccinations  people_vaccinated  \\\n",
       "0  Afghanistan      AFG  2021-02-22                 0.0                0.0   \n",
       "1  Afghanistan      AFG  2021-02-23                 NaN                NaN   \n",
       "2  Afghanistan      AFG  2021-02-24                 NaN                NaN   \n",
       "3  Afghanistan      AFG  2021-02-25                 NaN                NaN   \n",
       "4  Afghanistan      AFG  2021-02-26                 NaN                NaN   \n",
       "\n",
       "   people_fully_vaccinated  total_boosters  daily_vaccinations_raw  \\\n",
       "0                      NaN             NaN                     NaN   \n",
       "1                      NaN             NaN                     NaN   \n",
       "2                      NaN             NaN                     NaN   \n",
       "3                      NaN             NaN                     NaN   \n",
       "4                      NaN             NaN                     NaN   \n",
       "\n",
       "   daily_vaccinations  total_vaccinations_per_hundred  \\\n",
       "0                 NaN                             0.0   \n",
       "1              1367.0                             NaN   \n",
       "2              1367.0                             NaN   \n",
       "3              1367.0                             NaN   \n",
       "4              1367.0                             NaN   \n",
       "\n",
       "   people_vaccinated_per_hundred  people_fully_vaccinated_per_hundred  \\\n",
       "0                            0.0                                  NaN   \n",
       "1                            NaN                                  NaN   \n",
       "2                            NaN                                  NaN   \n",
       "3                            NaN                                  NaN   \n",
       "4                            NaN                                  NaN   \n",
       "\n",
       "   total_boosters_per_hundred  daily_vaccinations_per_million  \n",
       "0                         NaN                             NaN  \n",
       "1                         NaN                            35.0  \n",
       "2                         NaN                            35.0  \n",
       "3                         NaN                            35.0  \n",
       "4                         NaN                            35.0  "
      ],
      "text/html": [
       "<div>\n",
       "<style scoped>\n",
       "    .dataframe tbody tr th:only-of-type {\n",
       "        vertical-align: middle;\n",
       "    }\n",
       "\n",
       "    .dataframe tbody tr th {\n",
       "        vertical-align: top;\n",
       "    }\n",
       "\n",
       "    .dataframe thead th {\n",
       "        text-align: right;\n",
       "    }\n",
       "</style>\n",
       "<table border=\"1\" class=\"dataframe\">\n",
       "  <thead>\n",
       "    <tr style=\"text-align: right;\">\n",
       "      <th></th>\n",
       "      <th>location</th>\n",
       "      <th>iso_code</th>\n",
       "      <th>date</th>\n",
       "      <th>total_vaccinations</th>\n",
       "      <th>people_vaccinated</th>\n",
       "      <th>people_fully_vaccinated</th>\n",
       "      <th>total_boosters</th>\n",
       "      <th>daily_vaccinations_raw</th>\n",
       "      <th>daily_vaccinations</th>\n",
       "      <th>total_vaccinations_per_hundred</th>\n",
       "      <th>people_vaccinated_per_hundred</th>\n",
       "      <th>people_fully_vaccinated_per_hundred</th>\n",
       "      <th>total_boosters_per_hundred</th>\n",
       "      <th>daily_vaccinations_per_million</th>\n",
       "    </tr>\n",
       "  </thead>\n",
       "  <tbody>\n",
       "    <tr>\n",
       "      <th>0</th>\n",
       "      <td>Afghanistan</td>\n",
       "      <td>AFG</td>\n",
       "      <td>2021-02-22</td>\n",
       "      <td>0.0</td>\n",
       "      <td>0.0</td>\n",
       "      <td>NaN</td>\n",
       "      <td>NaN</td>\n",
       "      <td>NaN</td>\n",
       "      <td>NaN</td>\n",
       "      <td>0.0</td>\n",
       "      <td>0.0</td>\n",
       "      <td>NaN</td>\n",
       "      <td>NaN</td>\n",
       "      <td>NaN</td>\n",
       "    </tr>\n",
       "    <tr>\n",
       "      <th>1</th>\n",
       "      <td>Afghanistan</td>\n",
       "      <td>AFG</td>\n",
       "      <td>2021-02-23</td>\n",
       "      <td>NaN</td>\n",
       "      <td>NaN</td>\n",
       "      <td>NaN</td>\n",
       "      <td>NaN</td>\n",
       "      <td>NaN</td>\n",
       "      <td>1367.0</td>\n",
       "      <td>NaN</td>\n",
       "      <td>NaN</td>\n",
       "      <td>NaN</td>\n",
       "      <td>NaN</td>\n",
       "      <td>35.0</td>\n",
       "    </tr>\n",
       "    <tr>\n",
       "      <th>2</th>\n",
       "      <td>Afghanistan</td>\n",
       "      <td>AFG</td>\n",
       "      <td>2021-02-24</td>\n",
       "      <td>NaN</td>\n",
       "      <td>NaN</td>\n",
       "      <td>NaN</td>\n",
       "      <td>NaN</td>\n",
       "      <td>NaN</td>\n",
       "      <td>1367.0</td>\n",
       "      <td>NaN</td>\n",
       "      <td>NaN</td>\n",
       "      <td>NaN</td>\n",
       "      <td>NaN</td>\n",
       "      <td>35.0</td>\n",
       "    </tr>\n",
       "    <tr>\n",
       "      <th>3</th>\n",
       "      <td>Afghanistan</td>\n",
       "      <td>AFG</td>\n",
       "      <td>2021-02-25</td>\n",
       "      <td>NaN</td>\n",
       "      <td>NaN</td>\n",
       "      <td>NaN</td>\n",
       "      <td>NaN</td>\n",
       "      <td>NaN</td>\n",
       "      <td>1367.0</td>\n",
       "      <td>NaN</td>\n",
       "      <td>NaN</td>\n",
       "      <td>NaN</td>\n",
       "      <td>NaN</td>\n",
       "      <td>35.0</td>\n",
       "    </tr>\n",
       "    <tr>\n",
       "      <th>4</th>\n",
       "      <td>Afghanistan</td>\n",
       "      <td>AFG</td>\n",
       "      <td>2021-02-26</td>\n",
       "      <td>NaN</td>\n",
       "      <td>NaN</td>\n",
       "      <td>NaN</td>\n",
       "      <td>NaN</td>\n",
       "      <td>NaN</td>\n",
       "      <td>1367.0</td>\n",
       "      <td>NaN</td>\n",
       "      <td>NaN</td>\n",
       "      <td>NaN</td>\n",
       "      <td>NaN</td>\n",
       "      <td>35.0</td>\n",
       "    </tr>\n",
       "  </tbody>\n",
       "</table>\n",
       "</div>"
      ]
     },
     "metadata": {},
     "execution_count": 7
    }
   ],
   "metadata": {}
  },
  {
   "cell_type": "code",
   "execution_count": null,
   "source": [
    "def vaccination_lastest_date_by_country(df):\r\n",
    "  return df.groupby('location').last().reset_index()"
   ],
   "outputs": [],
   "metadata": {}
  },
  {
   "cell_type": "code",
   "execution_count": 14,
   "source": [
    "df_vaccination_by_country = df.groupby('location').last().reset_index()\r\n",
    "df_vaccination_by_country.head()\r\n"
   ],
   "outputs": [
    {
     "output_type": "execute_result",
     "data": {
      "text/plain": [
       "      location  iso_code        date  total_vaccinations  people_vaccinated  \\\n",
       "0  Afghanistan       AFG  2021-08-11           1809517.0           770302.0   \n",
       "1       Africa  OWID_AFR  2021-08-23          91915588.0         61626192.0   \n",
       "2      Albania       ALB  2021-08-17           1340339.0           764997.0   \n",
       "3      Algeria       DZA  2021-08-20           4146091.0          3421279.0   \n",
       "4      Andorra       AND  2021-08-15             91660.0            51044.0   \n",
       "\n",
       "   people_fully_vaccinated  total_boosters  daily_vaccinations_raw  \\\n",
       "0                 219159.0             NaN                  4015.0   \n",
       "1               33283254.0             NaN                891079.0   \n",
       "2                 575342.0             NaN                  9585.0   \n",
       "3                 724812.0             NaN                    30.0   \n",
       "4                  40616.0             NaN                  1973.0   \n",
       "\n",
       "   daily_vaccinations  total_vaccinations_per_hundred  \\\n",
       "0             35057.0                            4.65   \n",
       "1           1544920.0                            6.86   \n",
       "2              8586.0                           46.58   \n",
       "3             22369.0                            9.45   \n",
       "4               381.0                          118.63   \n",
       "\n",
       "   people_vaccinated_per_hundred  people_fully_vaccinated_per_hundred  \\\n",
       "0                           1.98                                 0.56   \n",
       "1                           4.60                                 2.48   \n",
       "2                          26.58                                19.99   \n",
       "3                           7.80                                 1.65   \n",
       "4                          66.06                                52.57   \n",
       "\n",
       "   total_boosters_per_hundred  daily_vaccinations_per_million  \n",
       "0                         NaN                           901.0  \n",
       "1                         NaN                          1152.0  \n",
       "2                         NaN                          2984.0  \n",
       "3                         NaN                           510.0  \n",
       "4                         NaN                          4931.0  "
      ],
      "text/html": [
       "<div>\n",
       "<style scoped>\n",
       "    .dataframe tbody tr th:only-of-type {\n",
       "        vertical-align: middle;\n",
       "    }\n",
       "\n",
       "    .dataframe tbody tr th {\n",
       "        vertical-align: top;\n",
       "    }\n",
       "\n",
       "    .dataframe thead th {\n",
       "        text-align: right;\n",
       "    }\n",
       "</style>\n",
       "<table border=\"1\" class=\"dataframe\">\n",
       "  <thead>\n",
       "    <tr style=\"text-align: right;\">\n",
       "      <th></th>\n",
       "      <th>location</th>\n",
       "      <th>iso_code</th>\n",
       "      <th>date</th>\n",
       "      <th>total_vaccinations</th>\n",
       "      <th>people_vaccinated</th>\n",
       "      <th>people_fully_vaccinated</th>\n",
       "      <th>total_boosters</th>\n",
       "      <th>daily_vaccinations_raw</th>\n",
       "      <th>daily_vaccinations</th>\n",
       "      <th>total_vaccinations_per_hundred</th>\n",
       "      <th>people_vaccinated_per_hundred</th>\n",
       "      <th>people_fully_vaccinated_per_hundred</th>\n",
       "      <th>total_boosters_per_hundred</th>\n",
       "      <th>daily_vaccinations_per_million</th>\n",
       "    </tr>\n",
       "  </thead>\n",
       "  <tbody>\n",
       "    <tr>\n",
       "      <th>0</th>\n",
       "      <td>Afghanistan</td>\n",
       "      <td>AFG</td>\n",
       "      <td>2021-08-11</td>\n",
       "      <td>1809517.0</td>\n",
       "      <td>770302.0</td>\n",
       "      <td>219159.0</td>\n",
       "      <td>NaN</td>\n",
       "      <td>4015.0</td>\n",
       "      <td>35057.0</td>\n",
       "      <td>4.65</td>\n",
       "      <td>1.98</td>\n",
       "      <td>0.56</td>\n",
       "      <td>NaN</td>\n",
       "      <td>901.0</td>\n",
       "    </tr>\n",
       "    <tr>\n",
       "      <th>1</th>\n",
       "      <td>Africa</td>\n",
       "      <td>OWID_AFR</td>\n",
       "      <td>2021-08-23</td>\n",
       "      <td>91915588.0</td>\n",
       "      <td>61626192.0</td>\n",
       "      <td>33283254.0</td>\n",
       "      <td>NaN</td>\n",
       "      <td>891079.0</td>\n",
       "      <td>1544920.0</td>\n",
       "      <td>6.86</td>\n",
       "      <td>4.60</td>\n",
       "      <td>2.48</td>\n",
       "      <td>NaN</td>\n",
       "      <td>1152.0</td>\n",
       "    </tr>\n",
       "    <tr>\n",
       "      <th>2</th>\n",
       "      <td>Albania</td>\n",
       "      <td>ALB</td>\n",
       "      <td>2021-08-17</td>\n",
       "      <td>1340339.0</td>\n",
       "      <td>764997.0</td>\n",
       "      <td>575342.0</td>\n",
       "      <td>NaN</td>\n",
       "      <td>9585.0</td>\n",
       "      <td>8586.0</td>\n",
       "      <td>46.58</td>\n",
       "      <td>26.58</td>\n",
       "      <td>19.99</td>\n",
       "      <td>NaN</td>\n",
       "      <td>2984.0</td>\n",
       "    </tr>\n",
       "    <tr>\n",
       "      <th>3</th>\n",
       "      <td>Algeria</td>\n",
       "      <td>DZA</td>\n",
       "      <td>2021-08-20</td>\n",
       "      <td>4146091.0</td>\n",
       "      <td>3421279.0</td>\n",
       "      <td>724812.0</td>\n",
       "      <td>NaN</td>\n",
       "      <td>30.0</td>\n",
       "      <td>22369.0</td>\n",
       "      <td>9.45</td>\n",
       "      <td>7.80</td>\n",
       "      <td>1.65</td>\n",
       "      <td>NaN</td>\n",
       "      <td>510.0</td>\n",
       "    </tr>\n",
       "    <tr>\n",
       "      <th>4</th>\n",
       "      <td>Andorra</td>\n",
       "      <td>AND</td>\n",
       "      <td>2021-08-15</td>\n",
       "      <td>91660.0</td>\n",
       "      <td>51044.0</td>\n",
       "      <td>40616.0</td>\n",
       "      <td>NaN</td>\n",
       "      <td>1973.0</td>\n",
       "      <td>381.0</td>\n",
       "      <td>118.63</td>\n",
       "      <td>66.06</td>\n",
       "      <td>52.57</td>\n",
       "      <td>NaN</td>\n",
       "      <td>4931.0</td>\n",
       "    </tr>\n",
       "  </tbody>\n",
       "</table>\n",
       "</div>"
      ]
     },
     "metadata": {},
     "execution_count": 14
    }
   ],
   "metadata": {}
  },
  {
   "cell_type": "code",
   "execution_count": 63,
   "source": [
    "df_vaccination_by_country[df_vaccination_by_country['location']=='Taiwan']['total_vaccinations_per_hundred'].values[0]"
   ],
   "outputs": [
    {
     "output_type": "execute_result",
     "data": {
      "text/plain": [
       "43.02"
      ]
     },
     "metadata": {},
     "execution_count": 63
    }
   ],
   "metadata": {}
  },
  {
   "cell_type": "code",
   "execution_count": 54,
   "source": [
    "# correct idea of plotting, but how to render just part of it by country, with scrollable view?\r\n",
    "df_vaccination_by_country = df_vaccination_by_country.sort_values(by='total_vaccinations_per_hundred', ascending=True)\r\n",
    "fig = px.bar(df_vaccination_by_country, x='total_vaccinations_per_hundred', y='location', text='total_vaccinations_per_hundred', height=4000)\r\n",
    "\r\n",
    "# bring the label text outside of the bar, and make the text bigger\r\n",
    "# reference: https://plotly.com/python/bar-charts/#bar-chart-with-direct-labels\r\n",
    "fig.update_traces(texttemplate='%{text:.4s}', textposition='outside')\r\n",
    "fig.update_layout(uniformtext_minsize=8, uniformtext_mode='hide')\r\n",
    "\r\n",
    "# adjusting the axis labels and layout\r\n",
    "fig.update_layout(yaxis_title=None, xaxis={\"side\": \"top\"})\r\n",
    "fig"
   ],
   "outputs": [
    {
     "output_type": "display_data",
     "data": {
      "application/vnd.plotly.v1+json": {
       "config": {
        "plotlyServerURL": "https://plot.ly"
       },
       "data": [
        {
         "alignmentgroup": "True",
         "hovertemplate": "total_vaccinations_per_hundred=%{text}<br>location=%{y}<extra></extra>",
         "legendgroup": "",
         "marker": {
          "color": "#636efa",
          "pattern": {
           "shape": ""
          }
         },
         "name": "",
         "offsetgroup": "",
         "orientation": "h",
         "showlegend": false,
         "text": [
          0.1,
          0.23,
          0.28,
          0.34,
          0.37,
          0.51,
          0.7,
          0.71,
          0.8,
          1.04,
          1.26,
          1.28,
          1.58,
          1.58,
          1.78,
          1.89,
          1.92,
          1.92,
          1.98,
          2.03,
          2.04,
          2.22,
          2.25,
          2.54,
          2.83,
          3,
          3.41,
          4.09,
          4.33,
          4.46,
          4.65,
          4.83,
          4.96,
          5.23,
          5.34,
          5.47,
          5.49,
          5.74,
          5.96,
          6.33,
          6.47,
          6.86,
          7.89,
          8.08,
          9.22,
          9.25,
          9.45,
          10.09,
          10.11,
          10.78,
          11.38,
          11.49,
          11.7,
          12.95,
          13.3,
          14.13,
          14.2,
          15.67,
          16.45,
          17.35,
          17.84,
          18.19,
          18.28,
          18.93,
          20.07,
          20.63,
          21.03,
          21.14,
          21.35,
          23.47,
          23.69,
          24.06,
          24.56,
          25.76,
          27.5,
          28.01,
          28.19,
          28.19,
          28.29,
          28.41,
          30.21,
          30.46,
          31.13,
          31.4,
          32.08,
          32.81,
          32.84,
          33.25,
          33.69,
          33.98,
          35.62,
          36.16,
          36.99,
          37.28,
          40.47,
          42.11,
          42.19,
          43.02,
          45.75,
          46.58,
          47.15,
          50.02,
          50.26,
          50.78,
          51.68,
          52.28,
          52.58,
          52.73,
          53.06,
          53.57,
          54.12,
          54.67,
          55.62,
          56.39,
          56.57,
          57.56,
          57.87,
          59.79,
          60.14,
          60.62,
          60.86,
          61.15,
          62.74,
          62.98,
          64.13,
          65.36,
          66.19,
          67.26,
          67.47,
          70.82,
          71.7,
          73.05,
          73.11,
          74.54,
          75.54,
          77.28,
          77.69,
          78.26,
          79.23,
          81.61,
          82.95,
          83.12,
          83.83,
          84,
          84.13,
          86.04,
          86.59,
          86.81,
          87.89,
          89.23,
          89.72,
          91.91,
          93.15,
          93.37,
          93.54,
          94.66,
          94.89,
          95.42,
          96.53,
          97.33,
          98.23,
          99.01,
          99.99,
          100.49,
          103.56,
          105.16,
          106.3,
          106.37,
          107.32,
          108.61,
          108.62,
          109.26,
          110.08,
          110.42,
          110.51,
          111.09,
          112.16,
          112.27,
          112.53,
          114.66,
          116.19,
          116.77,
          117.55,
          117.85,
          118.07,
          118.63,
          118.91,
          120.4,
          120.44,
          123.04,
          123.44,
          124.21,
          124.24,
          125.08,
          126.53,
          126.83,
          126.83,
          127.33,
          130,
          130.91,
          131.84,
          132.51,
          133.95,
          134.2,
          134.93,
          135.76,
          136.01,
          136.31,
          136.46,
          136.92,
          136.99,
          139.12,
          139.24,
          139.84,
          140.04,
          141.98,
          143.15,
          144.3,
          144.39,
          145.3,
          145.91,
          146.27,
          146.65,
          148.15,
          148.18,
          148.7,
          148.82,
          149.52,
          151.84,
          153.73,
          153.78,
          176.6,
          179.09,
          233.56
         ],
         "textposition": "outside",
         "texttemplate": "%{text:.4s}",
         "type": "bar",
         "x": [
          0.1,
          0.23,
          0.28,
          0.34,
          0.37,
          0.51,
          0.7,
          0.71,
          0.8,
          1.04,
          1.26,
          1.28,
          1.58,
          1.58,
          1.78,
          1.89,
          1.92,
          1.92,
          1.98,
          2.03,
          2.04,
          2.22,
          2.25,
          2.54,
          2.83,
          3,
          3.41,
          4.09,
          4.33,
          4.46,
          4.65,
          4.83,
          4.96,
          5.23,
          5.34,
          5.47,
          5.49,
          5.74,
          5.96,
          6.33,
          6.47,
          6.86,
          7.89,
          8.08,
          9.22,
          9.25,
          9.45,
          10.09,
          10.11,
          10.78,
          11.38,
          11.49,
          11.7,
          12.95,
          13.3,
          14.13,
          14.2,
          15.67,
          16.45,
          17.35,
          17.84,
          18.19,
          18.28,
          18.93,
          20.07,
          20.63,
          21.03,
          21.14,
          21.35,
          23.47,
          23.69,
          24.06,
          24.56,
          25.76,
          27.5,
          28.01,
          28.19,
          28.19,
          28.29,
          28.41,
          30.21,
          30.46,
          31.13,
          31.4,
          32.08,
          32.81,
          32.84,
          33.25,
          33.69,
          33.98,
          35.62,
          36.16,
          36.99,
          37.28,
          40.47,
          42.11,
          42.19,
          43.02,
          45.75,
          46.58,
          47.15,
          50.02,
          50.26,
          50.78,
          51.68,
          52.28,
          52.58,
          52.73,
          53.06,
          53.57,
          54.12,
          54.67,
          55.62,
          56.39,
          56.57,
          57.56,
          57.87,
          59.79,
          60.14,
          60.62,
          60.86,
          61.15,
          62.74,
          62.98,
          64.13,
          65.36,
          66.19,
          67.26,
          67.47,
          70.82,
          71.7,
          73.05,
          73.11,
          74.54,
          75.54,
          77.28,
          77.69,
          78.26,
          79.23,
          81.61,
          82.95,
          83.12,
          83.83,
          84,
          84.13,
          86.04,
          86.59,
          86.81,
          87.89,
          89.23,
          89.72,
          91.91,
          93.15,
          93.37,
          93.54,
          94.66,
          94.89,
          95.42,
          96.53,
          97.33,
          98.23,
          99.01,
          99.99,
          100.49,
          103.56,
          105.16,
          106.3,
          106.37,
          107.32,
          108.61,
          108.62,
          109.26,
          110.08,
          110.42,
          110.51,
          111.09,
          112.16,
          112.27,
          112.53,
          114.66,
          116.19,
          116.77,
          117.55,
          117.85,
          118.07,
          118.63,
          118.91,
          120.4,
          120.44,
          123.04,
          123.44,
          124.21,
          124.24,
          125.08,
          126.53,
          126.83,
          126.83,
          127.33,
          130,
          130.91,
          131.84,
          132.51,
          133.95,
          134.2,
          134.93,
          135.76,
          136.01,
          136.31,
          136.46,
          136.92,
          136.99,
          139.12,
          139.24,
          139.84,
          140.04,
          141.98,
          143.15,
          144.3,
          144.39,
          145.3,
          145.91,
          146.27,
          146.65,
          148.15,
          148.18,
          148.7,
          148.82,
          149.52,
          151.84,
          153.73,
          153.78,
          176.6,
          179.09,
          233.56
         ],
         "xaxis": "x",
         "y": [
          "Democratic Republic of Congo",
          "Haiti",
          "Chad",
          "Burkina Faso",
          "Tanzania",
          "South Sudan",
          "Turkmenistan",
          "Madagascar",
          "Benin",
          "Yemen",
          "Papua New Guinea",
          "Mali",
          "Cameroon",
          "Guinea-Bissau",
          "Somalia",
          "Sudan",
          "Low income",
          "Nigeria",
          "Central African Republic",
          "Niger",
          "Ethiopia",
          "Syria",
          "Liberia",
          "Uganda",
          "Sierra Leone",
          "Zambia",
          "Lesotho",
          "Ghana",
          "Malawi",
          "Kenya",
          "Afghanistan",
          "Cote d'Ivoire",
          "Congo",
          "Iraq",
          "Angola",
          "Mauritania",
          "Djibouti",
          "Gabon",
          "Mozambique",
          "Egypt",
          "Togo",
          "Africa",
          "Guinea",
          "Armenia",
          "Solomon Islands",
          "Nicaragua",
          "Algeria",
          "Senegal",
          "Vanuatu",
          "Namibia",
          "Rwanda",
          "Myanmar",
          "Kiribati",
          "Libya",
          "Gambia",
          "Bangladesh",
          "Jamaica",
          "Kyrgyzstan",
          "Venezuela",
          "Botswana",
          "Vietnam",
          "South Africa",
          "Eswatini",
          "Ukraine",
          "Sao Tome and Principe",
          "Tajikistan",
          "Pakistan",
          "Palestine",
          "Guatemala",
          "Equatorial Guinea",
          "Iran",
          "Saint Vincent and the Grenadines",
          "Georgia",
          "Zimbabwe",
          "Comoros",
          "Philippines",
          "Laos",
          "Bonaire Sint Eustatius and Saba",
          "Bosnia and Herzegovina",
          "Belarus",
          "Nepal",
          "Moldova",
          "Kosovo",
          "Lower middle income",
          "Bulgaria",
          "Bahamas",
          "Indonesia",
          "Honduras",
          "Saint Lucia",
          "Lebanon",
          "Grenada",
          "Uzbekistan",
          "Thailand",
          "Timor",
          "Tuvalu",
          "Tunisia",
          "India",
          "Taiwan",
          "Bolivia",
          "Albania",
          "Cape Verde",
          "Oceania",
          "Romania",
          "New Caledonia",
          "Tonga",
          "Peru",
          "Suriname",
          "Russia",
          "Paraguay",
          "North Macedonia",
          "New Zealand",
          "Belize",
          "Kuwait",
          "Brunei",
          "Montserrat",
          "Dominica",
          "Guyana",
          "Montenegro",
          "Jordan",
          "Kazakhstan",
          "Azerbaijan",
          "Trinidad and Tobago",
          "Mexico",
          "Samoa",
          "World",
          "Colombia",
          "Oman",
          "Australia",
          "Barbados",
          "Asia",
          "Tokelau",
          "South Korea",
          "Antigua and Barbuda",
          "French Polynesia",
          "Costa Rica",
          "South America",
          "Latvia",
          "Croatia",
          "Northern Cyprus",
          "Slovakia",
          "Sri Lanka",
          "Morocco",
          "Serbia",
          "Brazil",
          "Saint Kitts and Nevis",
          "Wallis and Futuna",
          "Argentina",
          "Fiji",
          "El Salvador",
          "Slovenia",
          "Macao",
          "North America",
          "Estonia",
          "Panama",
          "Japan",
          "Poland",
          "Hong Kong",
          "Ecuador",
          "Europe",
          "British Virgin Islands",
          "Malaysia",
          "Saudi Arabia",
          "Dominican Republic",
          "Upper middle income",
          "Cambodia",
          "Czechia",
          "Turkey",
          "High income",
          "Greece",
          "Switzerland",
          "United States",
          "Hungary",
          "Curacao",
          "Cuba",
          "Liechtenstein",
          "Sint Maarten (Dutch part)",
          "Mauritius",
          "Monaco",
          "Lithuania",
          "Austria",
          "European Union",
          "Cook Islands",
          "Norway",
          "Finland",
          "Sweden",
          "Andorra",
          "Germany",
          "Cyprus",
          "Luxembourg",
          "Anguilla",
          "Maldives",
          "Greenland",
          "France",
          "Italy",
          "Falkland Islands",
          "Netherlands",
          "Turks and Caicos Islands",
          "Northern Ireland",
          "Saint Helena",
          "Mongolia",
          "United Kingdom",
          "England",
          "Ireland",
          "Bhutan",
          "Bermuda",
          "San Marino",
          "Spain",
          "China",
          "Nauru",
          "Belgium",
          "Aruba",
          "Canada",
          "Portugal",
          "Iceland",
          "Scotland",
          "Wales",
          "Faeroe Islands",
          "Denmark",
          "Bahrain",
          "Jersey",
          "Seychelles",
          "Chile",
          "Guernsey",
          "Qatar",
          "Isle of Man",
          "Niue",
          "Israel",
          "Singapore",
          "Cayman Islands",
          "Uruguay",
          "Malta",
          "Pitcairn",
          "United Arab Emirates",
          "Gibraltar"
         ],
         "yaxis": "y"
        }
       ],
       "layout": {
        "barmode": "relative",
        "height": 4000,
        "legend": {
         "tracegroupgap": 0
        },
        "template": {
         "data": {
          "bar": [
           {
            "error_x": {
             "color": "#2a3f5f"
            },
            "error_y": {
             "color": "#2a3f5f"
            },
            "marker": {
             "line": {
              "color": "#E5ECF6",
              "width": 0.5
             },
             "pattern": {
              "fillmode": "overlay",
              "size": 10,
              "solidity": 0.2
             }
            },
            "type": "bar"
           }
          ],
          "barpolar": [
           {
            "marker": {
             "line": {
              "color": "#E5ECF6",
              "width": 0.5
             },
             "pattern": {
              "fillmode": "overlay",
              "size": 10,
              "solidity": 0.2
             }
            },
            "type": "barpolar"
           }
          ],
          "carpet": [
           {
            "aaxis": {
             "endlinecolor": "#2a3f5f",
             "gridcolor": "white",
             "linecolor": "white",
             "minorgridcolor": "white",
             "startlinecolor": "#2a3f5f"
            },
            "baxis": {
             "endlinecolor": "#2a3f5f",
             "gridcolor": "white",
             "linecolor": "white",
             "minorgridcolor": "white",
             "startlinecolor": "#2a3f5f"
            },
            "type": "carpet"
           }
          ],
          "choropleth": [
           {
            "colorbar": {
             "outlinewidth": 0,
             "ticks": ""
            },
            "type": "choropleth"
           }
          ],
          "contour": [
           {
            "colorbar": {
             "outlinewidth": 0,
             "ticks": ""
            },
            "colorscale": [
             [
              0,
              "#0d0887"
             ],
             [
              0.1111111111111111,
              "#46039f"
             ],
             [
              0.2222222222222222,
              "#7201a8"
             ],
             [
              0.3333333333333333,
              "#9c179e"
             ],
             [
              0.4444444444444444,
              "#bd3786"
             ],
             [
              0.5555555555555556,
              "#d8576b"
             ],
             [
              0.6666666666666666,
              "#ed7953"
             ],
             [
              0.7777777777777778,
              "#fb9f3a"
             ],
             [
              0.8888888888888888,
              "#fdca26"
             ],
             [
              1,
              "#f0f921"
             ]
            ],
            "type": "contour"
           }
          ],
          "contourcarpet": [
           {
            "colorbar": {
             "outlinewidth": 0,
             "ticks": ""
            },
            "type": "contourcarpet"
           }
          ],
          "heatmap": [
           {
            "colorbar": {
             "outlinewidth": 0,
             "ticks": ""
            },
            "colorscale": [
             [
              0,
              "#0d0887"
             ],
             [
              0.1111111111111111,
              "#46039f"
             ],
             [
              0.2222222222222222,
              "#7201a8"
             ],
             [
              0.3333333333333333,
              "#9c179e"
             ],
             [
              0.4444444444444444,
              "#bd3786"
             ],
             [
              0.5555555555555556,
              "#d8576b"
             ],
             [
              0.6666666666666666,
              "#ed7953"
             ],
             [
              0.7777777777777778,
              "#fb9f3a"
             ],
             [
              0.8888888888888888,
              "#fdca26"
             ],
             [
              1,
              "#f0f921"
             ]
            ],
            "type": "heatmap"
           }
          ],
          "heatmapgl": [
           {
            "colorbar": {
             "outlinewidth": 0,
             "ticks": ""
            },
            "colorscale": [
             [
              0,
              "#0d0887"
             ],
             [
              0.1111111111111111,
              "#46039f"
             ],
             [
              0.2222222222222222,
              "#7201a8"
             ],
             [
              0.3333333333333333,
              "#9c179e"
             ],
             [
              0.4444444444444444,
              "#bd3786"
             ],
             [
              0.5555555555555556,
              "#d8576b"
             ],
             [
              0.6666666666666666,
              "#ed7953"
             ],
             [
              0.7777777777777778,
              "#fb9f3a"
             ],
             [
              0.8888888888888888,
              "#fdca26"
             ],
             [
              1,
              "#f0f921"
             ]
            ],
            "type": "heatmapgl"
           }
          ],
          "histogram": [
           {
            "marker": {
             "pattern": {
              "fillmode": "overlay",
              "size": 10,
              "solidity": 0.2
             }
            },
            "type": "histogram"
           }
          ],
          "histogram2d": [
           {
            "colorbar": {
             "outlinewidth": 0,
             "ticks": ""
            },
            "colorscale": [
             [
              0,
              "#0d0887"
             ],
             [
              0.1111111111111111,
              "#46039f"
             ],
             [
              0.2222222222222222,
              "#7201a8"
             ],
             [
              0.3333333333333333,
              "#9c179e"
             ],
             [
              0.4444444444444444,
              "#bd3786"
             ],
             [
              0.5555555555555556,
              "#d8576b"
             ],
             [
              0.6666666666666666,
              "#ed7953"
             ],
             [
              0.7777777777777778,
              "#fb9f3a"
             ],
             [
              0.8888888888888888,
              "#fdca26"
             ],
             [
              1,
              "#f0f921"
             ]
            ],
            "type": "histogram2d"
           }
          ],
          "histogram2dcontour": [
           {
            "colorbar": {
             "outlinewidth": 0,
             "ticks": ""
            },
            "colorscale": [
             [
              0,
              "#0d0887"
             ],
             [
              0.1111111111111111,
              "#46039f"
             ],
             [
              0.2222222222222222,
              "#7201a8"
             ],
             [
              0.3333333333333333,
              "#9c179e"
             ],
             [
              0.4444444444444444,
              "#bd3786"
             ],
             [
              0.5555555555555556,
              "#d8576b"
             ],
             [
              0.6666666666666666,
              "#ed7953"
             ],
             [
              0.7777777777777778,
              "#fb9f3a"
             ],
             [
              0.8888888888888888,
              "#fdca26"
             ],
             [
              1,
              "#f0f921"
             ]
            ],
            "type": "histogram2dcontour"
           }
          ],
          "mesh3d": [
           {
            "colorbar": {
             "outlinewidth": 0,
             "ticks": ""
            },
            "type": "mesh3d"
           }
          ],
          "parcoords": [
           {
            "line": {
             "colorbar": {
              "outlinewidth": 0,
              "ticks": ""
             }
            },
            "type": "parcoords"
           }
          ],
          "pie": [
           {
            "automargin": true,
            "type": "pie"
           }
          ],
          "scatter": [
           {
            "marker": {
             "colorbar": {
              "outlinewidth": 0,
              "ticks": ""
             }
            },
            "type": "scatter"
           }
          ],
          "scatter3d": [
           {
            "line": {
             "colorbar": {
              "outlinewidth": 0,
              "ticks": ""
             }
            },
            "marker": {
             "colorbar": {
              "outlinewidth": 0,
              "ticks": ""
             }
            },
            "type": "scatter3d"
           }
          ],
          "scattercarpet": [
           {
            "marker": {
             "colorbar": {
              "outlinewidth": 0,
              "ticks": ""
             }
            },
            "type": "scattercarpet"
           }
          ],
          "scattergeo": [
           {
            "marker": {
             "colorbar": {
              "outlinewidth": 0,
              "ticks": ""
             }
            },
            "type": "scattergeo"
           }
          ],
          "scattergl": [
           {
            "marker": {
             "colorbar": {
              "outlinewidth": 0,
              "ticks": ""
             }
            },
            "type": "scattergl"
           }
          ],
          "scattermapbox": [
           {
            "marker": {
             "colorbar": {
              "outlinewidth": 0,
              "ticks": ""
             }
            },
            "type": "scattermapbox"
           }
          ],
          "scatterpolar": [
           {
            "marker": {
             "colorbar": {
              "outlinewidth": 0,
              "ticks": ""
             }
            },
            "type": "scatterpolar"
           }
          ],
          "scatterpolargl": [
           {
            "marker": {
             "colorbar": {
              "outlinewidth": 0,
              "ticks": ""
             }
            },
            "type": "scatterpolargl"
           }
          ],
          "scatterternary": [
           {
            "marker": {
             "colorbar": {
              "outlinewidth": 0,
              "ticks": ""
             }
            },
            "type": "scatterternary"
           }
          ],
          "surface": [
           {
            "colorbar": {
             "outlinewidth": 0,
             "ticks": ""
            },
            "colorscale": [
             [
              0,
              "#0d0887"
             ],
             [
              0.1111111111111111,
              "#46039f"
             ],
             [
              0.2222222222222222,
              "#7201a8"
             ],
             [
              0.3333333333333333,
              "#9c179e"
             ],
             [
              0.4444444444444444,
              "#bd3786"
             ],
             [
              0.5555555555555556,
              "#d8576b"
             ],
             [
              0.6666666666666666,
              "#ed7953"
             ],
             [
              0.7777777777777778,
              "#fb9f3a"
             ],
             [
              0.8888888888888888,
              "#fdca26"
             ],
             [
              1,
              "#f0f921"
             ]
            ],
            "type": "surface"
           }
          ],
          "table": [
           {
            "cells": {
             "fill": {
              "color": "#EBF0F8"
             },
             "line": {
              "color": "white"
             }
            },
            "header": {
             "fill": {
              "color": "#C8D4E3"
             },
             "line": {
              "color": "white"
             }
            },
            "type": "table"
           }
          ]
         },
         "layout": {
          "annotationdefaults": {
           "arrowcolor": "#2a3f5f",
           "arrowhead": 0,
           "arrowwidth": 1
          },
          "autotypenumbers": "strict",
          "coloraxis": {
           "colorbar": {
            "outlinewidth": 0,
            "ticks": ""
           }
          },
          "colorscale": {
           "diverging": [
            [
             0,
             "#8e0152"
            ],
            [
             0.1,
             "#c51b7d"
            ],
            [
             0.2,
             "#de77ae"
            ],
            [
             0.3,
             "#f1b6da"
            ],
            [
             0.4,
             "#fde0ef"
            ],
            [
             0.5,
             "#f7f7f7"
            ],
            [
             0.6,
             "#e6f5d0"
            ],
            [
             0.7,
             "#b8e186"
            ],
            [
             0.8,
             "#7fbc41"
            ],
            [
             0.9,
             "#4d9221"
            ],
            [
             1,
             "#276419"
            ]
           ],
           "sequential": [
            [
             0,
             "#0d0887"
            ],
            [
             0.1111111111111111,
             "#46039f"
            ],
            [
             0.2222222222222222,
             "#7201a8"
            ],
            [
             0.3333333333333333,
             "#9c179e"
            ],
            [
             0.4444444444444444,
             "#bd3786"
            ],
            [
             0.5555555555555556,
             "#d8576b"
            ],
            [
             0.6666666666666666,
             "#ed7953"
            ],
            [
             0.7777777777777778,
             "#fb9f3a"
            ],
            [
             0.8888888888888888,
             "#fdca26"
            ],
            [
             1,
             "#f0f921"
            ]
           ],
           "sequentialminus": [
            [
             0,
             "#0d0887"
            ],
            [
             0.1111111111111111,
             "#46039f"
            ],
            [
             0.2222222222222222,
             "#7201a8"
            ],
            [
             0.3333333333333333,
             "#9c179e"
            ],
            [
             0.4444444444444444,
             "#bd3786"
            ],
            [
             0.5555555555555556,
             "#d8576b"
            ],
            [
             0.6666666666666666,
             "#ed7953"
            ],
            [
             0.7777777777777778,
             "#fb9f3a"
            ],
            [
             0.8888888888888888,
             "#fdca26"
            ],
            [
             1,
             "#f0f921"
            ]
           ]
          },
          "colorway": [
           "#636efa",
           "#EF553B",
           "#00cc96",
           "#ab63fa",
           "#FFA15A",
           "#19d3f3",
           "#FF6692",
           "#B6E880",
           "#FF97FF",
           "#FECB52"
          ],
          "font": {
           "color": "#2a3f5f"
          },
          "geo": {
           "bgcolor": "white",
           "lakecolor": "white",
           "landcolor": "#E5ECF6",
           "showlakes": true,
           "showland": true,
           "subunitcolor": "white"
          },
          "hoverlabel": {
           "align": "left"
          },
          "hovermode": "closest",
          "mapbox": {
           "style": "light"
          },
          "paper_bgcolor": "white",
          "plot_bgcolor": "#E5ECF6",
          "polar": {
           "angularaxis": {
            "gridcolor": "white",
            "linecolor": "white",
            "ticks": ""
           },
           "bgcolor": "#E5ECF6",
           "radialaxis": {
            "gridcolor": "white",
            "linecolor": "white",
            "ticks": ""
           }
          },
          "scene": {
           "xaxis": {
            "backgroundcolor": "#E5ECF6",
            "gridcolor": "white",
            "gridwidth": 2,
            "linecolor": "white",
            "showbackground": true,
            "ticks": "",
            "zerolinecolor": "white"
           },
           "yaxis": {
            "backgroundcolor": "#E5ECF6",
            "gridcolor": "white",
            "gridwidth": 2,
            "linecolor": "white",
            "showbackground": true,
            "ticks": "",
            "zerolinecolor": "white"
           },
           "zaxis": {
            "backgroundcolor": "#E5ECF6",
            "gridcolor": "white",
            "gridwidth": 2,
            "linecolor": "white",
            "showbackground": true,
            "ticks": "",
            "zerolinecolor": "white"
           }
          },
          "shapedefaults": {
           "line": {
            "color": "#2a3f5f"
           }
          },
          "ternary": {
           "aaxis": {
            "gridcolor": "white",
            "linecolor": "white",
            "ticks": ""
           },
           "baxis": {
            "gridcolor": "white",
            "linecolor": "white",
            "ticks": ""
           },
           "bgcolor": "#E5ECF6",
           "caxis": {
            "gridcolor": "white",
            "linecolor": "white",
            "ticks": ""
           }
          },
          "title": {
           "x": 0.05
          },
          "xaxis": {
           "automargin": true,
           "gridcolor": "white",
           "linecolor": "white",
           "ticks": "",
           "title": {
            "standoff": 15
           },
           "zerolinecolor": "white",
           "zerolinewidth": 2
          },
          "yaxis": {
           "automargin": true,
           "gridcolor": "white",
           "linecolor": "white",
           "ticks": "",
           "title": {
            "standoff": 15
           },
           "zerolinecolor": "white",
           "zerolinewidth": 2
          }
         }
        },
        "title": {
         "text": "Global vaccination rate"
        },
        "uniformtext": {
         "minsize": 8,
         "mode": "hide"
        },
        "xaxis": {
         "anchor": "y",
         "domain": [
          0,
          1
         ],
         "side": "top",
         "title": {
          "text": "total_vaccinations_per_hundred"
         }
        },
        "yaxis": {
         "anchor": "x",
         "domain": [
          0,
          1
         ],
         "title": {}
        }
       }
      }
     },
     "metadata": {}
    }
   ],
   "metadata": {}
  },
  {
   "cell_type": "code",
   "execution_count": null,
   "source": [],
   "outputs": [],
   "metadata": {}
  }
 ],
 "metadata": {
  "orig_nbformat": 4,
  "language_info": {
   "name": "python",
   "version": "3.9.6",
   "mimetype": "text/x-python",
   "codemirror_mode": {
    "name": "ipython",
    "version": 3
   },
   "pygments_lexer": "ipython3",
   "nbconvert_exporter": "python",
   "file_extension": ".py"
  },
  "kernelspec": {
   "name": "python3",
   "display_name": "Python 3.9.6 64-bit"
  },
  "interpreter": {
   "hash": "984944ce4eefbed249e2a3501e72ee0777f56e66d10a0a53283275062444400f"
  }
 },
 "nbformat": 4,
 "nbformat_minor": 2
}